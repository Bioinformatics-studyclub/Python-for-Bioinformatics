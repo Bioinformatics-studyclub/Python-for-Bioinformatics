{
 "cells": [
  {
   "cell_type": "markdown",
   "metadata": {},
   "source": [
    "<h1><center><ins>Reading and Writing Files</ins></center></h1>"
   ]
  },
  {
   "cell_type": "markdown",
   "metadata": {},
   "source": [
    "<div class = \"alert alert-block alert-info\">\n",
    "\n",
    "> In the previous chapter we learnt how to store, read/print our data by using simple variable allocation together with the `print ()` function.\n",
    "\n",
    "> However, in Biology we often need to read in large amounts of text that is already stored in a file. E.g. a vcf, bam, csv or a plain text file (like Notepad). \n",
    "\n",
    "> We also usually need to write the information we need into a new file and not the screen. The screen is also known as Standard Out (StdOut)\n",
    "\n",
    "> Python has some built-in functions and methods to help us accomplish this"
   ]
  },
  {
   "cell_type": "markdown",
   "metadata": {},
   "source": [
    "<div class = \"alert alert-block alert-info\">\n",
    "\n",
    "> Remember in the previous section, we had a DNA sequence and we created a variable to store it in.\n",
    "\n",
    "> `my_dna = \"ATTCCATCAAGCTGATCAGGTTATCCATCTAGATCATNNATAAAGTACTGGGCATGCAA\"`\n",
    "\n",
    "> Now let's pretend that the new DNA sequence we have to work with is so long, that someone cannot read us the DNA sequence, for fear of making a mistake. \n",
    "\n",
    "> So they stored the DNA sequence in a file called **dna.txt**\n",
    "\n",
    "> How do we access this DNA?\n"
   ]
  },
  {
   "cell_type": "markdown",
   "metadata": {},
   "source": [
    "<div class = \"alert alert-block alert-info\">\n",
    "\n",
    "<h2><center>The open () function</center></h2>\n",
    "\n",
    "> This function takes up to two arguments\n",
    "  \n",
    "      open (file_name, mode)\n",
    "      \n",
    "> The `file_name` will be either the file name or the `directory path/file name` that you wish to work with\n",
    "\n",
    "> There are many different modes, but we will predominantly work with about four\n",
    "\n",
    "        1. open (file_name, \"r\")             : read mode (default)\n",
    "        \n",
    "        2. open (file_name, \"w\")             : write mode \n",
    "        \n",
    "        3. open (file_name, \"a\")             : append mode \n",
    "        \n",
    "        4. open (file_name, \"w+\")            : read and write mode \n",
    "\n"
   ]
  },
  {
   "cell_type": "code",
   "execution_count": 8,
   "metadata": {},
   "outputs": [
    {
     "ename": "FileNotFoundError",
     "evalue": "[Errno 2] No such file or directory: 'dna.txt'",
     "output_type": "error",
     "traceback": [
      "\u001b[1;31m---------------------------------------------------------------------------\u001b[0m",
      "\u001b[1;31mFileNotFoundError\u001b[0m                         Traceback (most recent call last)",
      "\u001b[1;32m<ipython-input-8-f7ff6484e39c>\u001b[0m in \u001b[0;36m<module>\u001b[1;34m\u001b[0m\n\u001b[0;32m      2\u001b[0m \u001b[1;31m# The file you want to read needs to be stored in the same folder as this script\u001b[0m\u001b[1;33m\u001b[0m\u001b[1;33m\u001b[0m\u001b[1;33m\u001b[0m\u001b[0m\n\u001b[0;32m      3\u001b[0m \u001b[1;33m\u001b[0m\u001b[0m\n\u001b[1;32m----> 4\u001b[1;33m \u001b[0mopen_dna_file\u001b[0m \u001b[1;33m=\u001b[0m \u001b[0mopen\u001b[0m\u001b[1;33m(\u001b[0m\u001b[1;34m\"dna.txt\"\u001b[0m\u001b[1;33m,\u001b[0m \u001b[1;34m\"r\"\u001b[0m\u001b[1;33m)\u001b[0m\u001b[1;33m\u001b[0m\u001b[1;33m\u001b[0m\u001b[0m\n\u001b[0m\u001b[0;32m      5\u001b[0m \u001b[1;33m\u001b[0m\u001b[0m\n\u001b[0;32m      6\u001b[0m \u001b[1;31m# you do NOT need to use the \"r\", because the default mode is the read mode\u001b[0m\u001b[1;33m\u001b[0m\u001b[1;33m\u001b[0m\u001b[1;33m\u001b[0m\u001b[0m\n",
      "\u001b[1;31mFileNotFoundError\u001b[0m: [Errno 2] No such file or directory: 'dna.txt'"
     ]
    }
   ],
   "source": [
    "# Please note that for this to work with using JUST open(), \n",
    "# The file you want to read needs to be stored in the same folder as this script\n",
    "\n",
    "open_dna_file = open(\"dna.txt\", \"r\")\n",
    "\n",
    "# you do NOT need to use the \"r\", because the default mode is the read mode\n",
    "open_dna_file = open(\"dna.txt\") \n",
    "\n"
   ]
  },
  {
   "cell_type": "code",
   "execution_count": null,
   "metadata": {},
   "outputs": [],
   "source": [
    "# What happens when you try to print it?\n",
    "\n",
    "print (open_dna_file)\n",
    "\n",
    "# When we used the open() method, we created a file object\n",
    "# The print () function cannot read a file object "
   ]
  },
  {
   "cell_type": "markdown",
   "metadata": {},
   "source": [
    "<div class = \"alert alert-block alert-info\">\n",
    "\n",
    "> Although it's y default on read mode, your computer has not actually read it yet\n",
    "\n",
    "\n",
    "> It simply means that it's **ready to be read**\n",
    "\n",
    "\n",
    "> Think of it as opening a plastic file from your office, but the light in the room is switched off.\n",
    "\n",
    "> So now let's switch on the light"
   ]
  },
  {
   "cell_type": "markdown",
   "metadata": {},
   "source": [
    "<div class = \"alert alert-block alert-info\">\n",
    "\n",
    "<h2><center>The .read ( ) method</center></h2>"
   ]
  },
  {
   "cell_type": "code",
   "execution_count": null,
   "metadata": {},
   "outputs": [],
   "source": [
    "# note that you have to add this statement/line to this block AGAIN\n",
    "# Why?\n",
    "open_dna_file = open(\"dna.txt\") \n",
    "\n",
    "read_dna_in_file = open_dna_file.read()\n",
    "\n",
    "# now we should be able to print\n",
    "\n",
    "print(read_dna_in_file)"
   ]
  },
  {
   "cell_type": "markdown",
   "metadata": {},
   "source": [
    "<div class = \"alert alert-block alert-info\">\n",
    "\n",
    "> Also note that there are other methods for reading in a file\n",
    "\n",
    "> But this can be better demonstrated by using another dna file\n",
    "\n",
    "> So let's read in another dna file.....\n",
    "\n",
    "> But let's pretend that this file is not stored in the same folder as this script....\n",
    "\n",
    "> This file is called other_dna.txt\n",
    "\n",
    "> And it is stored on your desktop\n",
    "\n",
    "\n",
    "> How will we read in this file?\n"
   ]
  },
  {
   "cell_type": "code",
   "execution_count": null,
   "metadata": {},
   "outputs": [],
   "source": [
    "open_new_dna_file  = open(\"other_dna.txt\") "
   ]
  },
  {
   "cell_type": "markdown",
   "metadata": {},
   "source": [
    "<div class = \"alert alert-block alert-info\">\n",
    "\n",
    "\n",
    "> By looking at the error message, can you see that this didn't work?\n",
    "\n",
    "> The script is looking for the file\n",
    "\n",
    "> In the same folder where this script is located. \n",
    "\n",
    "> But this script and the input file \"other_dna.txt\", are in two different directories"
   ]
  },
  {
   "cell_type": "markdown",
   "metadata": {},
   "source": [
    "<div class = \"alert alert-block alert-info\">\n",
    "\n",
    "\n",
    "\n",
    "> If you don't know in which directory you ae currently sitting..\n",
    "\n",
    "> You can use the \"print work directory\" (pwd) command"
   ]
  },
  {
   "cell_type": "code",
   "execution_count": 9,
   "metadata": {},
   "outputs": [
    {
     "data": {
      "text/plain": [
       "'C:\\\\Users\\\\Tracey\\\\Dropbox\\\\Python\\\\Python_for_Biologists'"
      ]
     },
     "execution_count": 9,
     "metadata": {},
     "output_type": "execute_result"
    }
   ],
   "source": [
    "pwd "
   ]
  },
  {
   "cell_type": "markdown",
   "metadata": {},
   "source": [
    "<div class = \"alert alert-block alert-info\">\n",
    "\n",
    "\n",
    "> So can you see that this notebook is running from my Dropbox folder\n",
    "\n",
    "> And as I previously stated, the file of interest is on my Desktop\n",
    "\n",
    "> So now you have three choices"
   ]
  },
  {
   "cell_type": "markdown",
   "metadata": {},
   "source": [
    "<div class = \"alert alert-block alert-info\">\n",
    "\n",
    "**1.** You can either place the \"other_dna.txt\" file in your folder<br> \n",
    "       `/home/tracey/Dropbox/Python/Python_for_Biologists` \n",
    "        <br><br>  \n",
    "\n",
    "**2.** If you want to completely change your directory...<br>\n",
    "       So that this script/notebook runs from where your \"other_dna.txt\" is located<br>\n",
    "       Then you can use the \"change directory\" (cd) command <br><br>\n",
    "   \n",
    "   \n",
    "**3.** Add the directory ahead of the file name.<br>\n",
    "       E.g. if your input file is in your Downloads folder, then<br>\n",
    "       `open (/home/user/Downloads/input_file, \"w\")`"
   ]
  },
  {
   "cell_type": "code",
   "execution_count": 10,
   "metadata": {},
   "outputs": [
    {
     "name": "stdout",
     "output_type": "stream",
     "text": [
      "[WinError 3] The system cannot find the path specified: '/home/tracey/Desktop # for some reason the cd or pwd do not always work, but adding the percentage helps'\n",
      "C:\\Users\\Tracey\\Dropbox\\Python\\Python_for_Biologists\n"
     ]
    }
   ],
   "source": [
    "# 2. \n",
    "\n",
    "%cd /home/tracey/Desktop # for some reason the \"cd\" or \"pwd\" do not always work, but adding the percentage helps\n"
   ]
  },
  {
   "cell_type": "code",
   "execution_count": 11,
   "metadata": {},
   "outputs": [
    {
     "name": "stdout",
     "output_type": "stream",
     "text": [
      "[WinError 3] The system cannot find the path specified: '/home/tracey/Dropbox/Python/Python_for_Biologists'\n",
      "C:\\Users\\Tracey\\Dropbox\\Python\\Python_for_Biologists\n"
     ]
    }
   ],
   "source": [
    "# So, let's change it back, because I actually want to remain in the Dropbox folder\n",
    "\n",
    "%cd /home/tracey/Dropbox/Python/Python_for_Biologists"
   ]
  },
  {
   "cell_type": "code",
   "execution_count": 12,
   "metadata": {},
   "outputs": [
    {
     "ename": "FileNotFoundError",
     "evalue": "[Errno 2] No such file or directory: '/home/tracey/Desktop/other_dna.txt'",
     "output_type": "error",
     "traceback": [
      "\u001b[1;31m---------------------------------------------------------------------------\u001b[0m",
      "\u001b[1;31mFileNotFoundError\u001b[0m                         Traceback (most recent call last)",
      "\u001b[1;32m<ipython-input-12-e3f6fb48fe41>\u001b[0m in \u001b[0;36m<module>\u001b[1;34m\u001b[0m\n\u001b[0;32m      2\u001b[0m \u001b[1;31m# Now let's tell it where the file is, by using the file path\u001b[0m\u001b[1;33m\u001b[0m\u001b[1;33m\u001b[0m\u001b[1;33m\u001b[0m\u001b[0m\n\u001b[0;32m      3\u001b[0m \u001b[1;33m\u001b[0m\u001b[0m\n\u001b[1;32m----> 4\u001b[1;33m \u001b[0mopen_new_dna_file\u001b[0m  \u001b[1;33m=\u001b[0m \u001b[0mopen\u001b[0m\u001b[1;33m(\u001b[0m\u001b[1;34m\"/home/tracey/Desktop/other_dna.txt\"\u001b[0m\u001b[1;33m)\u001b[0m\u001b[1;33m\u001b[0m\u001b[1;33m\u001b[0m\u001b[0m\n\u001b[0m",
      "\u001b[1;31mFileNotFoundError\u001b[0m: [Errno 2] No such file or directory: '/home/tracey/Desktop/other_dna.txt'"
     ]
    }
   ],
   "source": [
    "# 3. \n",
    "# Now let's tell it where the file is, by using the file path\n",
    "\n",
    "open_new_dna_file  = open(\"/home/tracey/Desktop/other_dna.txt\")\n"
   ]
  },
  {
   "cell_type": "code",
   "execution_count": null,
   "metadata": {},
   "outputs": [],
   "source": [
    "# Now let's read it and see what is inside by printing it\n",
    "\n",
    "open_new_dna_file  = open(\"/home/tracey/Desktop/other_dna.txt\")\n",
    "read_new_dna_file = open_new_dna_file.read()\n",
    "print (read_new_dna_file)\n",
    "\n",
    "# Do you notice something different about this output?"
   ]
  },
  {
   "cell_type": "markdown",
   "metadata": {},
   "source": [
    "<div class = \"alert alert-block alert-info\">\n",
    "\n",
    "> This file seems to be narrower and split over multile lines\n",
    "\n",
    "> This is exactly the same DNA as in the \"dna.txt\" file though\n",
    "\n",
    "> So let's print the length to see if it's the same?"
   ]
  },
  {
   "cell_type": "code",
   "execution_count": null,
   "metadata": {},
   "outputs": [],
   "source": [
    "len(read_dna_in_file)"
   ]
  },
  {
   "cell_type": "code",
   "execution_count": null,
   "metadata": {},
   "outputs": [],
   "source": [
    "len(read_new_dna_file)"
   ]
  },
  {
   "cell_type": "markdown",
   "metadata": {},
   "source": [
    "<div class = \"alert alert-block alert-info\">\n",
    "\n",
    "> The new file is longer because the DNA sequence was split over multiple lines.... \n",
    "\n",
    "> And in Python even new lines and blank spaces are counted as characters\n",
    "\n",
    "> Let's demonstrate this with a simple string variable\n",
    "\n"
   ]
  },
  {
   "cell_type": "code",
   "execution_count": null,
   "metadata": {},
   "outputs": [],
   "source": [
    "my_characters = \"countme\"\n",
    "print(my_characters)\n",
    "len(my_characters)"
   ]
  },
  {
   "cell_type": "code",
   "execution_count": null,
   "metadata": {},
   "outputs": [],
   "source": [
    "my_characters = \"count me\"\n",
    "print(my_characters)\n",
    "len(my_characters)"
   ]
  },
  {
   "cell_type": "code",
   "execution_count": null,
   "metadata": {},
   "outputs": [],
   "source": [
    "my_characters = \"count me\\n\\n\\n\"\n",
    "print(my_characters)\n",
    "len(my_characters)\n",
    "# there are three extra lines after the \"count me\"... \n",
    "# and the length of this variable"
   ]
  },
  {
   "cell_type": "markdown",
   "metadata": {},
   "source": [
    "<div class = \"alert alert-block alert-info\">\n",
    "\n",
    "> Now that we undestand that spaces are being taken into account\n",
    "\n",
    "> Let's look at some other ways in which a file can be read\n",
    "\n",
    "> We could not demonstrate what we are about to properly with the first DNA file..... \n",
    "\n",
    "> And you will see why"
   ]
  },
  {
   "cell_type": "markdown",
   "metadata": {},
   "source": [
    "<div class = \"alert alert-block alert-info\">\n",
    "\n",
    "<h2><center>The methods:</center></h2>\n",
    "    \n",
    "                                  .read ( ) \n",
    "    \n",
    "                                  .readline( ) \n",
    "            \n",
    "                                  .readlines( )\n",
    "                                  \n",
    "> Let's understand the difference                                  "
   ]
  },
  {
   "cell_type": "code",
   "execution_count": null,
   "metadata": {},
   "outputs": [],
   "source": [
    "pwd"
   ]
  },
  {
   "cell_type": "code",
   "execution_count": 17,
   "metadata": {},
   "outputs": [
    {
     "name": "stdout",
     "output_type": "stream",
     "text": [
      "ATGGCAATAACCCCCCGTTTCTACTTCTAGAGGAGAAAAGTATTGACAT\n",
      "GAGCGCTCCCGGCACAAGGGCCAAAGAAGTCTCCAATTTCTTATTTCCG\n",
      "AATGACATGCGTCTCCTTGCGGGTAAATCACCGACCGCAATTCATAGAA\n",
      "GCCTGGGGGAACAGATAGGTCTAATTAGCTTAAGAGAGTAAATCCTGGG\n",
      "ATCATTCAGTAGTAACCATAAACTTACGCTGGGGCTTCTTCGGCGGATT\n",
      "TTTACAGTTACCAACCAGGAGATTTGAAGTAAATCAGTTGAGGATTTAG\n",
      "CCGCGCTATCCGGTAATCTCCAAATTAAAACATACCGTTCCATGAAGGC\n",
      "TAGAATTACTTACCGGCCTTTTCCATGCCTGCGCTATACCCCCCCACTC\n",
      "TCCCGCTTATCCGTCCGAGCGGAGGCAGTGCGATCCTCCGTTAAGATAT\n",
      "TCTTACGTGTGACGTAGCTATGTATTTTGCAGAGCTGGCGAACGCGTTG\n",
      "AACACTTCACAGATGGTAGGGATTCGGGTAAAGGGCGTATAATTGGGGA\n",
      "CTAACATAGGCGTAGACTACGATGGCGCCAACTCAATCGCAGCTCGAGC\n",
      "GCCCTGAATAACGTACTCATCTCAACTCATTCTCGGCAATCTACCGAGC\n",
      "GACTCGATTATCAACGGCTGTCTAGCAGTTCTAATCTTTTGCCAGCATC\n",
      "GTAATAGCCTCCAAGAGATTGATGATAGCTATCGGCACAGAACTGAGAC\n",
      "GGCGCCGATGGATAGCGGACTTTCGGTCAACCACAATTCCCCACGGGAC\n",
      "AGGTCCTGCGGTGCGCATCACTCTGAATGTACAAGCAACCCAAGTGGGC\n",
      "CGAGCCTGGACTCAGCTGGTTCCTGCGTGAGCTCGAGACTCGGGATGAC\n",
      "AGCTCTTTAAACATAGAGCGGGGGCGTCGAACGGTCGAGAAAGTCATAG\n",
      "TACCTCGGGTACCAACTTACTCAGGTTATTGCTTGAAGCTGTACTATTT\n",
      "TAGGGGGGGAGCGCTGAAGGTCTCTTCTTCTCATGACTGAACTCGCGAG\n",
      "GGTCGTGAAGTCGGTTCCTTCAATGGTTAAAAAACAAAGGCTTACTGTG\n",
      "CGCAGAGGAACGCCCATCTAGCGGCTGGCGTCTTGAATGCTCGGTCCCC\n",
      "TTTGTCATTCCGGATTAATCCATTTCCCTCATTCACGAGCTTGCGAAGT\n",
      "CTACATTGGTATATGAATGCGACCTAGAAGAGGGCGCTTAAAATTGGCA\n",
      "GTGGTTGATGCTCTAAACTCCATTTGGTTTACTCGTGCATCACCGCGAT\n",
      "AGGCTGACAAAGGTTTAACATTGAATAGCAAGGCACTTCCGGTCTCAAT\n",
      "GAACGGCCGGGAAAGGTACGCGCGCGGTATGGGAGGATCAAGGGGCCAA\n",
      "TAGAGAGGCTCCTCTCTCACTCGCTAGGAGGCAAATGTAAAACAATGGT\n",
      "TACTGCATCGATACATAAAACATGTCCATCGGTTGCCCAAAGTGTTAAG\n",
      "TGTCTATCACCCCTAGGGCCGTTTCCCGCATATAAACGCCAGGTTGTAT\n",
      "CCGCATTTGATGCTACCGTGGATGAGTCTGCGTCGAGCGCGCCGCACGA\n",
      "ATGTTGCAATGTATTGCATGAGTAGGGTTGACTAAGAGCCGTTAGATGC\n",
      "GTCGCTGTACTAATAGTTGTCGACAGACCGTCGAGATTAGAAAATGGTA\n",
      "CCAGCATTTTCGGAGGTTCTCTAACTAGTATGGATTGCGGTGTCTTCAC\n",
      "TGTGCTGCGGCTACCCATCGCCTGAAATCCAGCTGGTGTCAAGCCATCC\n",
      "CCTCTCCGGGACGCCGCATGTAGTGAAACATATACGTTGCACGGGTTCA\n",
      "CCGCGGTCCGTTCTGAGTCGACCAAGGACACAATCGAGCTCCGATCCGT\n",
      "ACCCTCGACAAACTTGTACCCGACCCCCGGAGCTTGCCAGCTCCTCGGG\n",
      "TATCATGGAGCCTGTGGTTCATCGCGTCCGATATCAAACTTCGTCATGA\n",
      "TAAAGTCCCCCCCTCGGGAGTACCAGAGAAGATGACTACTGAGTTGTGC\n",
      "GAT\n",
      "\n"
     ]
    }
   ],
   "source": [
    "# when we use \".read ( )\", the system reads this as one complete string entity\n",
    "\n",
    "# open_new_dna_file  = open(\"/home/tracey/Desktop/other_dna.txt\")\n",
    "open_new_dna_file  = open(\"C:/Users/Tracey/Desktop/other_dna.txt\")\n",
    "read_new_dna_file = open_new_dna_file.read()\n",
    "print (read_new_dna_file)\n"
   ]
  },
  {
   "cell_type": "code",
   "execution_count": null,
   "metadata": {},
   "outputs": [],
   "source": [
    "# When we use \".readline ( )\"\n",
    "# It reads only the fist line\n",
    "\n",
    "open_new_dna_file  = open(\"/home/tracey/Desktop/other_dna.txt\")\n",
    "readline_new_dna_file = open_new_dna_file.readline()\n",
    "print (readline_new_dna_file)"
   ]
  },
  {
   "cell_type": "code",
   "execution_count": null,
   "metadata": {},
   "outputs": [],
   "source": [
    "# The \".readlines ( )\"\n",
    "# Splits the file after every new line \"\\n\", and makes a list out of the file\n",
    "# where every new line is an item in the list\n",
    "# We will learn more about lists in the upcoming chapters\n",
    "\n",
    "open_new_dna_file  = open(\"/home/tracey/Desktop/other_dna.txt\")\n",
    "readlines_new_dna_file = open_new_dna_file.readlines()\n",
    "print (readlines_new_dna_file)"
   ]
  },
  {
   "cell_type": "markdown",
   "metadata": {},
   "source": [
    "<div class = \"alert alert-block alert-info\">\n",
    "    \n",
    "> List and strings can both be sliced using `[ : ]`\n",
    "\n",
    "> So, by using `.readlines( )`, you can for example skip reading the first 2 lines/elements\n",
    "\n",
    "> using the following"
   ]
  },
  {
   "cell_type": "code",
   "execution_count": null,
   "metadata": {},
   "outputs": [],
   "source": [
    "open_new_dna_file  = open(\"/home/tracey/Desktop/other_dna.txt\")\n",
    "readlines_new_dna_file = open_new_dna_file.readlines()\n",
    "skip_2_lines = readlines_new_dna_file[2:] # you skipped elements 0 and element 1\n",
    "print(skip_2_lines) "
   ]
  },
  {
   "cell_type": "code",
   "execution_count": null,
   "metadata": {},
   "outputs": [],
   "source": [
    "# or you can read\n",
    "\n",
    "open_new_dna_file  = open(\"/home/tracey/Desktop/other_dna.txt\")\n",
    "readlines_new_dna_file = open_new_dna_file.readlines()\n",
    "skip_2_lines = readlines_new_dna_file[2:] # you skipped elements 0 and element 1\n",
    "print(skip_2_lines) "
   ]
  },
  {
   "cell_type": "markdown",
   "metadata": {},
   "source": [
    "<div class = \"alert alert-block alert-info\">\n",
    "\n",
    "> Here it may not make as much sense as to why you might want to read in your lines as a list with each line being an item, but there are occasions where might want this\n",
    "\n",
    "> I usually use the `.read ( )`\n",
    "\n",
    "> And use a `for loop` to access the lines in the file that I wish to work with\n",
    "\n",
    "> But we haven't done loops yet\n",
    "\n",
    "> So we will see that later"
   ]
  },
  {
   "cell_type": "markdown",
   "metadata": {},
   "source": [
    "<div class = \"alert alert-block alert-info\">\n",
    "\n",
    "> Now that we are aware that there are spaces that we might not be able to see\n",
    "\n",
    "> You may want to remove these spaces\n",
    "\n",
    "> Because they may lead to incorrect inferences"
   ]
  },
  {
   "cell_type": "markdown",
   "metadata": {},
   "source": [
    "<div class = \"alert alert-block alert-info\">\n",
    "\n",
    "<h2><center>The methods:</center></h2>\n",
    "\n",
    "                .strip ( )    (strip empty space from both sides)\n",
    "                .rstrip ( )   (strip empty space from the right side)\n",
    "                .lstrip ( )   (strip empty space from the left sides)\n"
   ]
  },
  {
   "cell_type": "code",
   "execution_count": null,
   "metadata": {},
   "outputs": [],
   "source": [
    "# For now, let's go back to out original \"dna.txt\" file\n",
    "\n",
    "# I usually just use .strip().....\n",
    "# because then I know it will take care of empty space on the right and left side\n",
    "open_dna_file = open(\"dna.txt\") \n",
    "\n",
    "read_dna_in_file = open_dna_file.read()\n",
    "\n",
    "len(read_dna_in_file)\n",
    "\n"
   ]
  },
  {
   "cell_type": "code",
   "execution_count": null,
   "metadata": {},
   "outputs": [],
   "source": [
    "open_dna_file = open(\"dna.txt\") \n",
    "\n",
    "read_dna_in_file = open_dna_file.read()\n",
    "\n",
    "stripped_read_dna_in_file = read_dna_in_file.strip()\n",
    "len(stripped_read_dna_in_file)\n",
    "\n",
    "\n",
    "# leaving it empty strips it off any space\n",
    "# whether its a blank space, a tab or a new line\n",
    "# So it looks as if there was at least one space, possibly at the end of the file"
   ]
  },
  {
   "cell_type": "markdown",
   "metadata": {},
   "source": [
    "<div class = \"alert alert-block alert-info\">\n",
    "\n",
    "> **NOTE:** You may also strip on other characters\n"
   ]
  },
  {
   "cell_type": "code",
   "execution_count": null,
   "metadata": {},
   "outputs": [],
   "source": [
    "my_sequence = \"CCGCGCTATCCGGTAATCTCCAAATTAAAA\"\n",
    "strip_As_off_sequence = my_sequence.rstrip(\"AAAA\")\n",
    "\n",
    "print(my_sequence)\n",
    "print(strip_As_off_sequence)"
   ]
  },
  {
   "cell_type": "markdown",
   "metadata": {},
   "source": [
    "<div class = \"alert alert-block alert-info\">\n",
    "\n",
    "<h2><center>Writing to files</center></h2>"
   ]
  },
  {
   "cell_type": "markdown",
   "metadata": {},
   "source": [
    "<div class = \"alert alert-block alert-info\">\n",
    "\n",
    "> In order to write content to a file, you need to take care of four things:\n",
    "\n",
    "    \n",
    "**1.** **Create/name** an output file\n",
    "\n",
    "\n",
    "**2.** Instruct it to **open the file** for **writing**\n",
    "\n",
    "\n",
    "**3.** Instruct it when it needs to start writing \n",
    "   \n",
    "\n",
    "**4.** Instruct it on **what** it should write\n",
    "\n",
    "**5.** Close the file\n",
    "\n",
    "\n",
    "\n",
    "> Remember, you've only opened files thus far for reading\n"
   ]
  },
  {
   "cell_type": "markdown",
   "metadata": {},
   "source": [
    "<div class = \"alert alert-block alert-info\">\n",
    "\n",
    "> There are two ways to write:\n",
    "    \n",
    "> And it will all depend on what you chose when you opened the file  <br> <br><br> \n",
    "\n",
    "**1.** Start writing your output from the top of the file <br>\n",
    "\n",
    "   Even if it means you overwrite everything that was already in the file\n",
    "\n",
    "`open(output_file, \"w\")` \n",
    "    <br> <br>\n",
    "\n",
    "**2.** Start writing on a new line, below whatever was in the file (append)\n",
    "\n",
    "`open(output_file, \"a)`  "
   ]
  },
  {
   "cell_type": "code",
   "execution_count": null,
   "metadata": {},
   "outputs": [],
   "source": [
    "# Let's open an output file and write \n",
    "# \"This is the end of the file\", into the output file, using append\n",
    "\n",
    "outfile = open(\"/home/tracey/Desktop/outfile.txt\", \"a\")\n",
    "outfile.write(\"This is the end of the file\")\n",
    "outfile.close() \n",
    "\n",
    "\n",
    "# note that we have to close the file\n",
    "# Or you will notice, that you probably need to run this code twice\n",
    "# Before you are able to see the line in the file\n",
    "# Closing files after reading and writing, is good practice"
   ]
  },
  {
   "cell_type": "code",
   "execution_count": null,
   "metadata": {},
   "outputs": [],
   "source": [
    "# Notice the difference between the append and the write mode\n",
    "\n",
    "outfile = open(\"/home/tracey/Desktop/outfile.txt\", \"w\")\n",
    "outfile.write(\"This is the end of the file\")\n",
    "outfile.close()"
   ]
  },
  {
   "cell_type": "code",
   "execution_count": null,
   "metadata": {},
   "outputs": [],
   "source": [
    "# The previous output file, called outfile.txt\", already existed\n",
    "# But if your output file does not exist,\n",
    "# you can create it, in the same way\n",
    "\n",
    "outfile = open(\"/home/tracey/Desktop/new_outfile.txt\", \"w\")\n",
    "\n",
    "outfile.write(\"This is the a new output file\")\n",
    "\n",
    "outfile.close()\n"
   ]
  },
  {
   "cell_type": "markdown",
   "metadata": {},
   "source": [
    "<div class = \"alert alert-block alert-info\">\n",
    "    \n",
    "<h2><center> Best Practice</center></h2> \n",
    "\n",
    ">   It is very common to forget to close a file after we've opened it <br>\n",
    "          \n",
    ">   By adding a **`with`** in front of the function<br>\n",
    "   \n",
    ">   We automatically close the file \n",
    "\n",
    ">   After we have read or after we write output to the file\n",
    "\n",
    "                        with open (file, 'mode')"
   ]
  },
  {
   "cell_type": "code",
   "execution_count": null,
   "metadata": {},
   "outputs": [],
   "source": [
    "# We can rewrite:\n",
    "\n",
    "outfile = open(\"new_outfile.txt\", \"w\")\n",
    "outfile.write(\"This is the a new output file\")\n",
    "outfile.close()\n",
    "\n",
    "\n",
    "with open(\"new_outfile.txt\", \"w\") as outfile:\n",
    "    outfile.write(\"This is the a new output file\")\n",
    "\n",
    "# we don't need the line \"outfile.close()\"\n",
    "# the \"with\" part, takes care of that\n",
    "\n",
    "# Let's find the file called \"new_outfile.txt\" on my Desktop"
   ]
  },
  {
   "cell_type": "markdown",
   "metadata": {},
   "source": [
    "     \n",
    "> **What went wrong above?**\n",
    "\n",
    "\n",
    "> **Why is this file not on my Desktop?**"
   ]
  },
  {
   "cell_type": "code",
   "execution_count": null,
   "metadata": {},
   "outputs": [],
   "source": [
    "# If I want it on my Desktop\n",
    "# I need to specify this\n",
    "# Or it will create an output file in the directory where this script is\n",
    "\n",
    "with open(\"/home/tracey/Desktop/new_outfile.txt\", \"w\") as outfile:\n",
    "    outfile.write(\"This is the a new output file\")\n",
    "    "
   ]
  },
  {
   "cell_type": "code",
   "execution_count": null,
   "metadata": {},
   "outputs": [],
   "source": [
    "# \"with open(file, mode)\" should also be used when opening a file for reading\n",
    "\n",
    "with open(\"dna.txt\") as open_dna_file:\n",
    "    read_dna_in_file = open_dna_file.read().strip()\n",
    "    \n",
    "print(read_dna_in_file)\n",
    "    \n"
   ]
  },
  {
   "cell_type": "code",
   "execution_count": null,
   "metadata": {},
   "outputs": [],
   "source": [
    "# otherwise you should close it yourself\n",
    "\n",
    "open_dna_file = open(\"dna.txt\") \n",
    "\n",
    "read_dna_in_file = open_dna_file.read()\n",
    "\n",
    "read_dna_in_file.close()"
   ]
  },
  {
   "cell_type": "markdown",
   "metadata": {},
   "source": [
    "<div class = \"alert alert-block alert-info\" >\n",
    "\n",
    "<h1><center>EXERCISES</center></h1>"
   ]
  },
  {
   "cell_type": "markdown",
   "metadata": {},
   "source": [
    "***1. Splitting genomic DNA*** <br>\n",
    "\n",
    "**a)** Look in the chapter_3  folder, for a file called \"genomic_dna.txt\".\n",
    "\n",
    "It contains the same piece of genomic DNA that we were using in the final exercise from chapter 2 <br>\n",
    "\n",
    "**b)** Write a program that will split the genomic DNA into coding and non-coding parts, and\n",
    "write these sequences to two separate files.<br><br>\n",
    "\n",
    "**Hint: use your solution to the last exercise from chapter 2 as a starting point.**"
   ]
  },
  {
   "cell_type": "code",
   "execution_count": null,
   "metadata": {},
   "outputs": [],
   "source": [
    "###############\n",
    "# Solution 1a #\n",
    "###############\n",
    "\n",
    "\n",
    "# NB!! Remember that YOUR \"genomic_dna.txt\" file will be in a different directory. \n",
    "# So use the path where your file is\n",
    "\n",
    "\n",
    "# Locate all and create the necessary files\n",
    "in_file =  open (\"/home/tracey/Desktop/genomic_dna.txt\") \n",
    "output_coding = open(\"/home/tracey/Desktop/coding_file.txt\", \"w\") \n",
    "output_non_coding = open (\"/home/tracey/Desktop/non_coding_file.txt\", \"w\")      \n",
    "\n",
    "# read the input file\n",
    "genomic_dna = in_file.read()\n",
    "    \n",
    "\n",
    "# get the introns and exons from my file\n",
    "first_exon = genomic_dna[:62] \n",
    "last_exon = genomic_dna[90:] \n",
    "combined_exons = first_exon + last_exon\n",
    "intron = (genomic_dna[62:90]).lower()\n",
    "\n",
    "# write my output to their respective files\n",
    "output_coding.write(combined_exons)\n",
    "output_non_coding.write(intron)\n",
    "\n",
    "# close the files\n",
    "in_file.close()\n",
    "output_coding.close()\n",
    "output_non_coding.close()\n",
    "    "
   ]
  },
  {
   "cell_type": "markdown",
   "metadata": {},
   "source": [
    "<div class = \"alert alert-block alert-info\" >\n",
    "\n",
    "> **The better solution would be this one**"
   ]
  },
  {
   "cell_type": "code",
   "execution_count": null,
   "metadata": {},
   "outputs": [],
   "source": [
    "###############\n",
    "# Solution 1b #\n",
    "###############\n",
    "\n",
    "\n",
    "# NB!! Remember that your genomic file will be in a different directory. \n",
    "# So use the path where your file is\n",
    "\n",
    "\n",
    "# Locate all and create the necessary files\n",
    "with open (\"/home/tracey/Desktop/genomic_dna.txt\") as in_file, \\\n",
    "    open (\"/home/tracey/Desktop/coding_file.txt\", \"w\") as output_coding, \\\n",
    "    open (\"/home/tracey/Desktop/non_coding_file.txt\", \"w\") as output_non_coding:\n",
    "\n",
    "    \n",
    "    # read the input file    \n",
    "    genomic_dna = in_file.read().strip()\n",
    "    \n",
    "    \n",
    "    # get the introns and exons from my file\n",
    "    first_exon = genomic_dna[:62] \n",
    "    last_exon = genomic_dna[90:] \n",
    "    combined_exons = first_exon + last_exon\n",
    "    intron = (genomic_dna[62:90]).lower()\n",
    "    \n",
    "    # write my output to their respective files\n",
    "    output_coding.write(combined_exons)\n",
    "    output_non_coding.write(intron)\n",
    "    \n",
    "\n",
    "    # Note that you have to stick to the indentation\n",
    "    # I opened all the files I needed at once, by separating them with commas    \n",
    "    # I used the escape character \"\\\", so that I don't have to write it all in one line\n",
    "    # Makes the code easier to read\n",
    "    # Please note, that you will NOT always oen a file write at the beginning.\n",
    "    \n"
   ]
  },
  {
   "cell_type": "markdown",
   "metadata": {},
   "source": [
    "***2. Writing a FASTA file*** <br><br>\n",
    "\n",
    "FASTA file format is a commonly-used DNA and protein sequence file format. \n",
    "\n",
    "\n",
    "A single sequence in FASTA format looks like this:<br><br>\n",
    "\n",
    "\n",
    "**>sequence_name**\n",
    "\n",
    "**ATCGACTGATCGATCGTACGAT**\n",
    "\n",
    "<br>\n",
    "Where sequence_name is a header that describes the sequence (the greater-than symbol indicates the start of the header line). \n",
    "\n",
    "Often, the header contains an accession number that relates to the record for the sequence in a public sequence\n",
    "database. \n",
    "\n",
    "\n",
    "A single FASTA file can contain multiple sequences, like this:\n",
    "\n",
    "**\\>sequence_one**\n",
    "\n",
    "**ATCGATCGATCGATCGAT**\n",
    "\n",
    "**>sequence_two**\n",
    "\n",
    "**ACTAGCTAGCTAGCATCG**\n",
    "\n",
    "**sequence_three**\n",
    "\n",
    "**ACTGCATCGATCGTACCT**\n",
    "\n",
    "<br><br>\n",
    "\n",
    "Write a program that will create a FASTA file for the following three sequences***\n",
    "\n",
    "make sure that all sequences are in upper case and only contain the bases A, T, G and C\n",
    "<br><br>\n",
    "\n",
    "|<h3>Sequence header</h3>    |<h3>DNA sequence</h3>                                  |\n",
    "|--------------------        |-------------------------------------                  |\n",
    "|<center>ABC123</center>     |     <center>ATCGTACGATCGATCGATCGCTAGACGTATCG</center> |\n",
    "|<center>DEF456</center>     |    <center> actgatcgacgatcgatcgatcacgact </center>    |\n",
    "|<center>HIJ789</center>     |    <center> ACTGAC-ACTGT--ACTGTA----CATGTG</center>   |\n",
    "\n"
   ]
  },
  {
   "cell_type": "code",
   "execution_count": null,
   "metadata": {},
   "outputs": [],
   "source": [
    "ABC123 = \"ATCGTACGATCGATCGATCGCTAGACGTATCG\"\n",
    "DEF456 = \"actgatcgacgatcgatcgatcacgact\".upper()\n",
    "HIJ789 = \"ACTGAC-ACTGT--ACTGTA----CATGTG\".replace(\"-\",\"\")\n",
    "\n",
    "\n",
    "# ABC123_line = f\">ABC123\\n{ABC123}\\n\"\n",
    "ABC123_line = \">ABC123\" + \"\\n\" + ABC123 + \"\\n\"\n",
    "DEF456_line = \">DEF456\" + \"\\n\" + DEF456 + \"\\n\"\n",
    "HIJ789_line = \">HIJ789\" + \"\\n\" + HIJ789\n",
    "\n",
    "\n",
    "# print (HIJ789_line)\n",
    "\n",
    "\n",
    "with open (\"/home/tracey/Desktop/three_sequences.fasta\", \"w\") as dna_out:\n",
    "    \n",
    "    dna_out.write(ABC123_line)\n",
    "    dna_out.write(DEF456_line)\n",
    "    dna_out.write(HIJ789_line)                \n",
    "    \n",
    "    "
   ]
  },
  {
   "cell_type": "markdown",
   "metadata": {},
   "source": [
    "***3. Writing multiple FASTA files***\n",
    "\n",
    "Use the data from the previous exercise, but instead of creating a single FASTA file,\n",
    "\n",
    "create three new FASTA files – one per sequence. The names of the FASTA files\n",
    "\n",
    "should be the same as the sequence header names, with the extension .fasta."
   ]
  },
  {
   "cell_type": "code",
   "execution_count": null,
   "metadata": {},
   "outputs": [],
   "source": [
    "###############\n",
    "# Solution 2a #\n",
    "###############\n",
    "\n",
    "ABC123 = \"ATCGTACGATCGATCGATCGCTAGACGTATCG\"\n",
    "DEF456 = \"actgatcgacgatcgatcgatcacgact\".upper()\n",
    "HIJ789 = \"ACTGAC-ACTGT--ACTGTA----CATGTG\".replace(\"-\",\"\")\n",
    "\n",
    "\n",
    "# Note that I first printed them all, to see if they were correct, before I wrote them to the files.\n",
    "#print(HIJ789)\n",
    "\n",
    "                     \n",
    "with open (\"/home/tracey/Desktop/ABC123.fasta\", \"w\") as ABC123_out, \\\n",
    "    open (\"/home/tracey/Desktop/DEF456.fasta\", \"w\") as DEF456_out, \\\n",
    "    open (\"/home/tracey/Desktop/HIJ789.fasta\", \"w\") as HIJ789_out:\n",
    "\n",
    "\n",
    "    ABC123_out.write(ABC123)\n",
    "    DEF456_out.write(DEF456)\n",
    "    HIJ789_out.write(HIJ789)\n",
    "    \n",
    "    "
   ]
  },
  {
   "cell_type": "code",
   "execution_count": null,
   "metadata": {},
   "outputs": [],
   "source": [
    "###############\n",
    "# Solution 2b #\n",
    "###############\n",
    "\n",
    "# Let's say that you find your desktop is becoming all cluttered \n",
    "\n",
    "# from printing all these files\n",
    "\n",
    "# and you want to create a folder as you write to the files\n",
    "\n",
    "# but you're not sure if it exists\n",
    "\n",
    "# you can import a library called \"os\", and allow it to check\n",
    "\n",
    "# if it doesn't exist\n",
    "\n",
    "# you can tell it to create the directory\n",
    "\n",
    "# we will learn more about this in later chapters\n",
    "\n",
    "import os\n",
    "\n",
    "ABC123 = \"ATCGTACGATCGATCGATCGCTAGACGTATCG\"\n",
    "DEF456 = \"actgatcgacgatcgatcgatcacgact\".upper()\n",
    "HIJ789 = \"ACTGAC-ACTGT--ACTGTA----CATGTG\".replace(\"-\",\"\")\n",
    "\n",
    "\n",
    "# Note that I first printed them all, to see if they were correct, before I wrote them to the files.\n",
    "#print(HIJ789)\n",
    "\n",
    "if not os.path.exists(\"/home/tracey/Desktop/Test_dir\"):\n",
    "    os.makedirs(\"/home/tracey/Desktop/Test_dir\")\n",
    "                     \n",
    "with open (\"/home/tracey/Desktop/Test_dir/ABC123.fasta\", \"w\") as ABC123_out, \\\n",
    "    open (\"/home/tracey/Desktop/Test_dir/DEF456.fasta\", \"w\") as DEF456_out, \\\n",
    "    open (\"/home/tracey/Desktop/Test_dir/HIJ789.fasta\", \"w\") as HIJ789_out:\n",
    "\n",
    "\n",
    "    ABC123_out.write(ABC123)\n",
    "    DEF456_out.write(DEF456)\n",
    "    HIJ789_out.write(HIJ789)"
   ]
  },
  {
   "cell_type": "markdown",
   "metadata": {},
   "source": [
    "<div class = \"alert alert-block alert-info\" >\n",
    "\n",
    "<h1><center>ADDITIONAL Exercises</center></h1>"
   ]
  },
  {
   "cell_type": "code",
   "execution_count": null,
   "metadata": {},
   "outputs": [],
   "source": [
    "# I have a multifasta file on my desktop\n",
    "# I can use BioPyton to read in the file and show me all the ID's \n",
    "# And also give me a glimpse of the nucleotide sequence\n",
    "# As well as the length of each sequence\n",
    "\n",
    "%cd /home/tracey/Desktop/\n",
    "\n",
    "from Bio import SeqIO\n",
    "for seq_record in SeqIO.parse(\"ls_orchid.fasta\", \"fasta\"):\n",
    "    print(seq_record.id)\n",
    "    print(repr(seq_record.seq)) # if ou don't use the \"repr\", you get the full sequence\n",
    "    print(len(seq_record))"
   ]
  },
  {
   "cell_type": "code",
   "execution_count": null,
   "metadata": {},
   "outputs": [],
   "source": [
    "# 1. Create an output file on your Desktop named \"test_outfile.txt\"\n",
    "# 2. Write the a sentence into the file\n",
    "# 3. Open the file test_outfile.txt into which you just wrote your sentence\n",
    "# 4. Read the line from the file in uppercase\n",
    "# 5. Print this to your screen\n",
    "\n",
    "\n",
    "with open(\"/home/tracey/Desktop/test_outfile.txt\", \"w\") as outfile:\n",
    "    outfile.write(\"This is the message we want to change to upper case\")\n",
    "\n",
    "with open(\"/home/tracey/Desktop/test_outfile.txt\") as infile:\n",
    "    read_infile = infile.read().upper()\n",
    "    print(read_infile)\n",
    "    \n",
    "   "
   ]
  },
  {
   "cell_type": "code",
   "execution_count": null,
   "metadata": {},
   "outputs": [],
   "source": [
    "# 1. Open the test_outfile\n",
    "# 2. Check if the word \"to\" is in your file\n",
    "# 3. Store the result in the variable \"answer\"\n",
    "# 4. print the result\n",
    "\n",
    "with open(\"/home/tracey/Desktop/test_outfile.txt\") as infile:\n",
    "    read_infile = infile.read()\n",
    "    answer = \"to\" in read_infile\n",
    "    print(answer)"
   ]
  },
  {
   "cell_type": "code",
   "execution_count": null,
   "metadata": {},
   "outputs": [],
   "source": [
    "# 1. Open the genomic_dna.txt file\n",
    "# 2. Strip any white space from the file\n",
    "# 3. Create a variale called \"count_AT\"\n",
    "# 4. Count the number of As and Ts and add them together\n",
    "# 5. print the result to a file called \"count_AT.txt\"\n",
    "# 6. print \"Results printed to a file\" to your screen\"\n",
    "\n",
    "with open(\"/home/tracey/Desktop/genomic_dna.txt\") as infile,\\\n",
    "    open (\"/home/tracey/Desktop/count_AT.txt\", \"w\") as outfile:\n",
    "    read_infile = infile.read().strip()\n",
    "    count_AT = str(read_infile.count(\"A\") + read_infile.count(\"T\"))\n",
    "    outfile.write(count_AT)\n",
    "    print(\"Results printed to a file\")"
   ]
  }
 ],
 "metadata": {
  "kernelspec": {
   "display_name": "Python 3",
   "language": "python",
   "name": "python3"
  },
  "language_info": {
   "codemirror_mode": {
    "name": "ipython",
    "version": 3
   },
   "file_extension": ".py",
   "mimetype": "text/x-python",
   "name": "python",
   "nbconvert_exporter": "python",
   "pygments_lexer": "ipython3",
   "version": "3.8.3"
  }
 },
 "nbformat": 4,
 "nbformat_minor": 2
}
