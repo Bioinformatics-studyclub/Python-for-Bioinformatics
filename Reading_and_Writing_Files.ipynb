{
 "cells": [
  {
   "cell_type": "markdown",
   "metadata": {},
   "source": [
    "<h1><center><ins>Reading and Writing Files</ins></center></h1>"
   ]
  },
  {
   "cell_type": "markdown",
   "metadata": {},
   "source": [
    "<div class = \"alert alert-block alert-info\">\n",
    "\n",
    "> In **Chapter 2** we learnt how to store our data in variables, and how to view the content of a variable using the `print ()` function.\n",
    "\n",
    "> However, in Biology we often need to read in large amounts of text that is already stored in a file. E.g. a vcf, bam, csv or a plain text file (like Notepad). \n",
    "\n",
    "> We also usually need to write the information we need into a new file and not the screen. The screen is also known as Standard Out (StdOut)\n",
    "\n",
    "> Python has some built-in functions and methods to help us accomplish this"
   ]
  },
  {
   "cell_type": "markdown",
   "metadata": {},
   "source": [
    "<div class = \"alert alert-block alert-info\">\n",
    "\n",
    "> Remember in the previous section, we had a DNA sequence and we created a variable to store it in.\n",
    "\n",
    "> `my_dna = \"ATTCCATCAAGCTGATCAGGTTATCCATCTAGATCATNNATAAAGTACTGGGCATGCAA\"`\n",
    "\n",
    "> Now let's pretend that the new DNA sequence we have to work with is so long, that someone cannot read us the DNA sequence, for fear of making a mistake. \n",
    "\n",
    "> So they stored the DNA sequence in a file called **dna.txt**\n",
    "\n",
    "> How do we access this DNA?\n"
   ]
  },
  {
   "cell_type": "markdown",
   "metadata": {},
   "source": [
    "<div class = \"alert alert-block alert-info\">\n",
    "\n",
    "<h2><center>The open ( ) function</center></h2>\n",
    "\n",
    "> This function takes up to two arguments\n",
    "  \n",
    "      open (file, mode)\n",
    "      \n",
    "> The `file_name` takes just the **file name** if the input file and script are in the same directory\n",
    "\n",
    "> Or `open(\"path_of_directory/file\", mode)`, if the script and input file are in separate locations\n",
    "\n",
    "\n",
    "> There are many different modes, but we will predominantly work with about four\n",
    "\n",
    "        1. open (file, \"r\")             : read mode (default)\n",
    "        \n",
    "        2. open (file, \"w\")             : write mode \n",
    "        \n",
    "        3. open (file, \"a\")             : append mode \n",
    "        \n",
    "        4. open (file, \"w+\")            : read and write mode \n",
    "\n"
   ]
  },
  {
   "cell_type": "code",
   "execution_count": 1,
   "metadata": {},
   "outputs": [],
   "source": [
    "# Please note that for this to work with using JUST open(), \n",
    "# the file you want to read in, \n",
    "# needs to be stored in the same folder as this script\n",
    "\n",
    "open_dna_file = open(\"dna.txt\", \"r\")\n"
   ]
  },
  {
   "cell_type": "code",
   "execution_count": 2,
   "metadata": {},
   "outputs": [],
   "source": [
    "# you do NOT need to use the \"r\", \n",
    "# because the default mode is the read mode\n",
    "\n",
    "open_dna_file = open(\"dna.txt\") \n"
   ]
  },
  {
   "cell_type": "code",
   "execution_count": 3,
   "metadata": {},
   "outputs": [
    {
     "name": "stdout",
     "output_type": "stream",
     "text": [
      "<_io.TextIOWrapper name='dna.txt' mode='r' encoding='UTF-8'>\n"
     ]
    }
   ],
   "source": [
    "# What happens when you try to print it?\n",
    "\n",
    "print (open_dna_file)\n",
    "\n",
    "# When we used the open() method, we created a file object\n",
    "# The print () function does not read a file object \n"
   ]
  },
  {
   "cell_type": "markdown",
   "metadata": {},
   "source": [
    "<div class = \"alert alert-block alert-info\">\n",
    "\n",
    "> Although it's by default on read mode, your computer has not actually read it yet\n",
    "\n",
    "\n",
    "> It simply means that it's **ready to be read**\n",
    "\n",
    "\n",
    "> Think of it as opening a plastic file from your office, but you never looked into the file to read it.\n",
    "\n",
    "> Or like going to a doctor's office and the secretary just took out the existing files of all the patients who had appointments for that day\n",
    "\n",
    "> So now let's also read the data in the opened file"
   ]
  },
  {
   "cell_type": "markdown",
   "metadata": {},
   "source": [
    "<div class = \"alert alert-block alert-info\">\n",
    "\n",
    "<h2><center>The .read ( ) method</center></h2>"
   ]
  },
  {
   "cell_type": "code",
   "execution_count": 3,
   "metadata": {},
   "outputs": [
    {
     "name": "stdout",
     "output_type": "stream",
     "text": [
      "ATGGCAATAACCCCCCGTTTCTACTTCTAGAGGAGAAAAGTATTGACATGAGCGCTCCCGGCACAAGGGCCAAAGAAGTCTCCAATTTCTTATTTCCGAATGACATGCGTCTCCTTGCGGGTAAATCACCGACCGCAATTCATAGAAGCCTGGGGGAACAGATAGGTCTAATTAGCTTAAGAGAGTAAATCCTGGGATCATTCAGTAGTAACCATAAACTTACGCTGGGGCTTCTTCGGCGGATTTTTACAGTTACCAACCAGGAGATTTGAAGTAAATCAGTTGAGGATTTAGCCGCGCTATCCGGTAATCTCCAAATTAAAACATACCGTTCCATGAAGGCTAGAATTACTTACCGGCCTTTTCCATGCCTGCGCTATACCCCCCCACTCTCCCGCTTATCCGTCCGAGCGGAGGCAGTGCGATCCTCCGTTAAGATATTCTTACGTGTGACGTAGCTATGTATTTTGCAGAGCTGGCGAACGCGTTGAACACTTCACAGATGGTAGGGATTCGGGTAAAGGGCGTATAATTGGGGACTAACATAGGCGTAGACTACGATGGCGCCAACTCAATCGCAGCTCGAGCGCCCTGAATAACGTACTCATCTCAACTCATTCTCGGCAATCTACCGAGCGACTCGATTATCAACGGCTGTCTAGCAGTTCTAATCTTTTGCCAGCATCGTAATAGCCTCCAAGAGATTGATGATAGCTATCGGCACAGAACTGAGACGGCGCCGATGGATAGCGGACTTTCGGTCAACCACAATTCCCCACGGGACAGGTCCTGCGGTGCGCATCACTCTGAATGTACAAGCAACCCAAGTGGGCCGAGCCTGGACTCAGCTGGTTCCTGCGTGAGCTCGAGACTCGGGATGACAGCTCTTTAAACATAGAGCGGGGGCGTCGAACGGTCGAGAAAGTCATAGTACCTCGGGTACCAACTTACTCAGGTTATTGCTTGAAGCTGTACTATTTTAGGGGGGGAGCGCTGAAGGTCTCTTCTTCTCATGACTGAACTCGCGAGGGTCGTGAAGTCGGTTCCTTCAATGGTTAAAAAACAAAGGCTTACTGTGCGCAGAGGAACGCCCATCTAGCGGCTGGCGTCTTGAATGCTCGGTCCCCTTTGTCATTCCGGATTAATCCATTTCCCTCATTCACGAGCTTGCGAAGTCTACATTGGTATATGAATGCGACCTAGAAGAGGGCGCTTAAAATTGGCAGTGGTTGATGCTCTAAACTCCATTTGGTTTACTCGTGCATCACCGCGATAGGCTGACAAAGGTTTAACATTGAATAGCAAGGCACTTCCGGTCTCAATGAACGGCCGGGAAAGGTACGCGCGCGGTATGGGAGGATCAAGGGGCCAATAGAGAGGCTCCTCTCTCACTCGCTAGGAGGCAAATGTAAAACAATGGTTACTGCATCGATACATAAAACATGTCCATCGGTTGCCCAAAGTGTTAAGTGTCTATCACCCCTAGGGCCGTTTCCCGCATATAAACGCCAGGTTGTATCCGCATTTGATGCTACCGTGGATGAGTCTGCGTCGAGCGCGCCGCACGAATGTTGCAATGTATTGCATGAGTAGGGTTGACTAAGAGCCGTTAGATGCGTCGCTGTACTAATAGTTGTCGACAGACCGTCGAGATTAGAAAATGGTACCAGCATTTTCGGAGGTTCTCTAACTAGTATGGATTGCGGTGTCTTCACTGTGCTGCGGCTACCCATCGCCTGAAATCCAGCTGGTGTCAAGCCATCCCCTCTCCGGGACGCCGCATGTAGTGAAACATATACGTTGCACGGGTTCACCGCGGTCCGTTCTGAGTCGACCAAGGACACAATCGAGCTCCGATCCGTACCCTCGACAAACTTGTACCCGACCCCCGGAGCTTGCCAGCTCCTCGGGTATCATGGAGCCTGTGGTTCATCGCGTCCGATATCAAACTTCGTCATGATAAAGTCCCCCCCTCGGGAGTACCAGAGAAGATGACTACTGAGTTGTGCGAT\n",
      "\n"
     ]
    }
   ],
   "source": [
    "open_dna_file = open(\"dna.txt\") \n",
    "\n",
    "read_dna_in_file = open_dna_file.read()\n",
    "\n",
    "# now we should be able to print\n",
    "\n",
    "print(read_dna_in_file)\n"
   ]
  },
  {
   "cell_type": "markdown",
   "metadata": {},
   "source": [
    "<div class = \"alert alert-block alert-info\">\n",
    "\n",
    "> Also note that there are other methods for reading in a file\n",
    "\n",
    "> But this can be better demonstrated by using another dna file\n",
    "\n",
    "> So let's read in another dna file.....\n",
    "\n",
    "> But let's pretend that this file is not stored in the same folder as this script....\n",
    "\n",
    "> This file is called **other_dna.txt**\n",
    "\n",
    "> And it is stored on your **Desktop**, while this script is in your **Dropbox** folder\n",
    "\n",
    "\n",
    "> How will we read in this file?\n"
   ]
  },
  {
   "cell_type": "code",
   "execution_count": 4,
   "metadata": {},
   "outputs": [
    {
     "ename": "FileNotFoundError",
     "evalue": "[Errno 2] No such file or directory: 'other_dna.txt'",
     "output_type": "error",
     "traceback": [
      "\u001b[0;31m---------------------------------------------------------------------------\u001b[0m",
      "\u001b[0;31mFileNotFoundError\u001b[0m                         Traceback (most recent call last)",
      "\u001b[0;32m<ipython-input-4-3a76f55873f2>\u001b[0m in \u001b[0;36m<module>\u001b[0;34m\u001b[0m\n\u001b[0;32m----> 1\u001b[0;31m \u001b[0mopen_new_dna_file\u001b[0m  \u001b[0;34m=\u001b[0m \u001b[0mopen\u001b[0m\u001b[0;34m(\u001b[0m\u001b[0;34m\"other_dna.txt\"\u001b[0m\u001b[0;34m)\u001b[0m\u001b[0;34m\u001b[0m\u001b[0;34m\u001b[0m\u001b[0m\n\u001b[0m",
      "\u001b[0;31mFileNotFoundError\u001b[0m: [Errno 2] No such file or directory: 'other_dna.txt'"
     ]
    }
   ],
   "source": [
    "open_new_dna_file  = open(\"other_dna.txt\") \n"
   ]
  },
  {
   "cell_type": "markdown",
   "metadata": {},
   "source": [
    "<div class = \"alert alert-block alert-info\">\n",
    "\n",
    "\n",
    "> By looking at the error message, can you see why this didn't work?\n",
    "\n",
    "> The script is looking for the file, in the same folder where this script is located. \n",
    "\n",
    "> But this script and the input file, called \"other_dna.txt\", are in two different directories"
   ]
  },
  {
   "cell_type": "markdown",
   "metadata": {},
   "source": [
    "<div class = \"alert alert-block alert-info\">\n",
    "\n",
    "> If you don't know in which directory you currently are,\n",
    "\n",
    "> You can use the `pwd` (print work directory) command"
   ]
  },
  {
   "cell_type": "code",
   "execution_count": 5,
   "metadata": {},
   "outputs": [
    {
     "data": {
      "text/plain": [
       "'/home/tracey/Dropbox/Python/Python_for_Biologists'"
      ]
     },
     "execution_count": 5,
     "metadata": {},
     "output_type": "execute_result"
    }
   ],
   "source": [
    "pwd ## NB!!!! Your OUTPUT will obviously be the path to where YOUR Jupyter notebook is running from"
   ]
  },
  {
   "cell_type": "markdown",
   "metadata": {},
   "source": [
    "<div class = \"alert alert-block alert-info\">\n",
    "\n",
    "\n",
    "> So can you see that this notebook is running from my Dropbox folder\n",
    "\n",
    "> But as I previously stated, the **other_dna.txt** file of interest is on my Desktop\n",
    "\n",
    "> So now you have three choices"
   ]
  },
  {
   "cell_type": "markdown",
   "metadata": {},
   "source": [
    "<div class = \"alert alert-block alert-info\">\n",
    "\n",
    "**1.** You can either bring the **other_dna.txt** file to the same folder as your script <br><br>\n",
    "\n",
    "**2.** Or you can change your directory...<br>\n",
    "       So that this script runs from where your input file, **other_dna.txt**, is located<br>\n",
    "       To do this, you use the `cd` command (change directory) <br><br>\n",
    "   \n",
    "   \n",
    "**3.** Or you can add the directory ahead of the file name, when you call the `open()` function.<br>\n",
    "       E.g. if your input file is in your Desktop folder, then<br>\n",
    "       `open (\"/home/user/Desktop/input_file\")`"
   ]
  },
  {
   "cell_type": "code",
   "execution_count": 6,
   "metadata": {},
   "outputs": [
    {
     "name": "stdout",
     "output_type": "stream",
     "text": [
      "/home/tracey/Desktop\n"
     ]
    }
   ],
   "source": [
    "# Let's try option no 2. \n",
    "# for some reason the \"cd\" or \"pwd\" do not always work, but adding the percentage helps\n",
    "\n",
    "\n",
    "## NB!!!! This should obviously be the path to YOUR DESKTOP\n",
    "%cd /home/tracey/Desktop \n",
    "open_new_dna_file  = open(\"other_dna.txt\") # No error now\n"
   ]
  },
  {
   "cell_type": "code",
   "execution_count": 7,
   "metadata": {},
   "outputs": [
    {
     "name": "stdout",
     "output_type": "stream",
     "text": [
      "/home/tracey/Dropbox/Python/Python_for_Biologists\n"
     ]
    }
   ],
   "source": [
    "# But, let's change it back, because I actually want to remain in the Dropbox folder\n",
    "\n",
    "%cd /home/tracey/Dropbox/Python/Python_for_Biologists ## NB!!! Your path will NOT be the same as mine \n"
   ]
  },
  {
   "cell_type": "code",
   "execution_count": 8,
   "metadata": {},
   "outputs": [],
   "source": [
    "# Now let's try option no 3. \n",
    "# Start by telling the script where the file is, \n",
    "# by using the file path of your input file\n",
    "\n",
    "\n",
    "## NB!!!! This should obviously be the path to YOUR DESKTOP\n",
    "open_new_dna_file  = open(\"/home/tracey/Desktop/other_dna.txt\") \n",
    "# I personally prefer this option\n"
   ]
  },
  {
   "cell_type": "code",
   "execution_count": 9,
   "metadata": {},
   "outputs": [
    {
     "name": "stdout",
     "output_type": "stream",
     "text": [
      "ATGGCAATAACCCCCCGTTTCTACTTCTAGAGGAGAAAAGTATTGACAT\n",
      "GAGCGCTCCCGGCACAAGGGCCAAAGAAGTCTCCAATTTCTTATTTCCG\n",
      "AATGACATGCGTCTCCTTGCGGGTAAATCACCGACCGCAATTCATAGAA\n",
      "GCCTGGGGGAACAGATAGGTCTAATTAGCTTAAGAGAGTAAATCCTGGG\n",
      "ATCATTCAGTAGTAACCATAAACTTACGCTGGGGCTTCTTCGGCGGATT\n",
      "TTTACAGTTACCAACCAGGAGATTTGAAGTAAATCAGTTGAGGATTTAG\n",
      "CCGCGCTATCCGGTAATCTCCAAATTAAAACATACCGTTCCATGAAGGC\n",
      "TAGAATTACTTACCGGCCTTTTCCATGCCTGCGCTATACCCCCCCACTC\n",
      "TCCCGCTTATCCGTCCGAGCGGAGGCAGTGCGATCCTCCGTTAAGATAT\n",
      "TCTTACGTGTGACGTAGCTATGTATTTTGCAGAGCTGGCGAACGCGTTG\n",
      "AACACTTCACAGATGGTAGGGATTCGGGTAAAGGGCGTATAATTGGGGA\n",
      "CTAACATAGGCGTAGACTACGATGGCGCCAACTCAATCGCAGCTCGAGC\n",
      "GCCCTGAATAACGTACTCATCTCAACTCATTCTCGGCAATCTACCGAGC\n",
      "GACTCGATTATCAACGGCTGTCTAGCAGTTCTAATCTTTTGCCAGCATC\n",
      "GTAATAGCCTCCAAGAGATTGATGATAGCTATCGGCACAGAACTGAGAC\n",
      "GGCGCCGATGGATAGCGGACTTTCGGTCAACCACAATTCCCCACGGGAC\n",
      "AGGTCCTGCGGTGCGCATCACTCTGAATGTACAAGCAACCCAAGTGGGC\n",
      "CGAGCCTGGACTCAGCTGGTTCCTGCGTGAGCTCGAGACTCGGGATGAC\n",
      "AGCTCTTTAAACATAGAGCGGGGGCGTCGAACGGTCGAGAAAGTCATAG\n",
      "TACCTCGGGTACCAACTTACTCAGGTTATTGCTTGAAGCTGTACTATTT\n",
      "TAGGGGGGGAGCGCTGAAGGTCTCTTCTTCTCATGACTGAACTCGCGAG\n",
      "GGTCGTGAAGTCGGTTCCTTCAATGGTTAAAAAACAAAGGCTTACTGTG\n",
      "CGCAGAGGAACGCCCATCTAGCGGCTGGCGTCTTGAATGCTCGGTCCCC\n",
      "TTTGTCATTCCGGATTAATCCATTTCCCTCATTCACGAGCTTGCGAAGT\n",
      "CTACATTGGTATATGAATGCGACCTAGAAGAGGGCGCTTAAAATTGGCA\n",
      "GTGGTTGATGCTCTAAACTCCATTTGGTTTACTCGTGCATCACCGCGAT\n",
      "AGGCTGACAAAGGTTTAACATTGAATAGCAAGGCACTTCCGGTCTCAAT\n",
      "GAACGGCCGGGAAAGGTACGCGCGCGGTATGGGAGGATCAAGGGGCCAA\n",
      "TAGAGAGGCTCCTCTCTCACTCGCTAGGAGGCAAATGTAAAACAATGGT\n",
      "TACTGCATCGATACATAAAACATGTCCATCGGTTGCCCAAAGTGTTAAG\n",
      "TGTCTATCACCCCTAGGGCCGTTTCCCGCATATAAACGCCAGGTTGTAT\n",
      "CCGCATTTGATGCTACCGTGGATGAGTCTGCGTCGAGCGCGCCGCACGA\n",
      "ATGTTGCAATGTATTGCATGAGTAGGGTTGACTAAGAGCCGTTAGATGC\n",
      "GTCGCTGTACTAATAGTTGTCGACAGACCGTCGAGATTAGAAAATGGTA\n",
      "CCAGCATTTTCGGAGGTTCTCTAACTAGTATGGATTGCGGTGTCTTCAC\n",
      "TGTGCTGCGGCTACCCATCGCCTGAAATCCAGCTGGTGTCAAGCCATCC\n",
      "CCTCTCCGGGACGCCGCATGTAGTGAAACATATACGTTGCACGGGTTCA\n",
      "CCGCGGTCCGTTCTGAGTCGACCAAGGACACAATCGAGCTCCGATCCGT\n",
      "ACCCTCGACAAACTTGTACCCGACCCCCGGAGCTTGCCAGCTCCTCGGG\n",
      "TATCATGGAGCCTGTGGTTCATCGCGTCCGATATCAAACTTCGTCATGA\n",
      "TAAAGTCCCCCCCTCGGGAGTACCAGAGAAGATGACTACTGAGTTGTGC\n",
      "GAT\n",
      "\n"
     ]
    }
   ],
   "source": [
    "# Now let's read it and see what is inside by printing it\n",
    "\n",
    "## NB!!!! This should obviously be the path to YOUR DESKTOP\n",
    "\n",
    "open_new_dna_file  = open(\"/home/tracey/Desktop/other_dna.txt\")\n",
    "read_new_dna_file = open_new_dna_file.read()\n",
    "print (read_new_dna_file)\n",
    "\n",
    "# Do you notice something different about this output?\n"
   ]
  },
  {
   "cell_type": "markdown",
   "metadata": {},
   "source": [
    "<div class = \"alert alert-block alert-info\">\n",
    "\n",
    "> This file seems to be narrower and split over multiple lines\n",
    "\n",
    "> But this is exactly the same DNA sequence as in the **dna.txt** file\n",
    "\n",
    "> So let's print the length to see if it's the same?"
   ]
  },
  {
   "cell_type": "code",
   "execution_count": 10,
   "metadata": {},
   "outputs": [
    {
     "data": {
      "text/plain": [
       "2013"
      ]
     },
     "execution_count": 10,
     "metadata": {},
     "output_type": "execute_result"
    }
   ],
   "source": [
    "len(read_dna_in_file)"
   ]
  },
  {
   "cell_type": "code",
   "execution_count": 11,
   "metadata": {},
   "outputs": [
    {
     "data": {
      "text/plain": [
       "2054"
      ]
     },
     "execution_count": 11,
     "metadata": {},
     "output_type": "execute_result"
    }
   ],
   "source": [
    "len(read_new_dna_file)"
   ]
  },
  {
   "cell_type": "markdown",
   "metadata": {},
   "source": [
    "<div class = \"alert alert-block alert-info\">\n",
    "\n",
    "> The new file is longer because the DNA sequence was split over multiple lines.... \n",
    "\n",
    "> And in Python even new lines and blank spaces are counted as characters\n",
    "\n",
    "> Let's demonstrate this with a simple string variable\n",
    "\n"
   ]
  },
  {
   "cell_type": "code",
   "execution_count": 12,
   "metadata": {},
   "outputs": [
    {
     "name": "stdout",
     "output_type": "stream",
     "text": [
      "countme\n"
     ]
    },
    {
     "data": {
      "text/plain": [
       "7"
      ]
     },
     "execution_count": 12,
     "metadata": {},
     "output_type": "execute_result"
    }
   ],
   "source": [
    "my_characters = \"countme\"\n",
    "print(my_characters)\n",
    "len(my_characters)\n"
   ]
  },
  {
   "cell_type": "code",
   "execution_count": 13,
   "metadata": {},
   "outputs": [
    {
     "name": "stdout",
     "output_type": "stream",
     "text": [
      "count me\n"
     ]
    },
    {
     "data": {
      "text/plain": [
       "8"
      ]
     },
     "execution_count": 13,
     "metadata": {},
     "output_type": "execute_result"
    }
   ],
   "source": [
    "my_characters = \"count me\"\n",
    "print(my_characters)\n",
    "len(my_characters)\n"
   ]
  },
  {
   "cell_type": "code",
   "execution_count": 14,
   "metadata": {},
   "outputs": [
    {
     "name": "stdout",
     "output_type": "stream",
     "text": [
      "count me\n",
      "\n",
      "\n",
      "\n"
     ]
    },
    {
     "data": {
      "text/plain": [
       "11"
      ]
     },
     "execution_count": 14,
     "metadata": {},
     "output_type": "execute_result"
    }
   ],
   "source": [
    "my_characters = \"count me\\n\\n\\n\"\n",
    "print(my_characters)\n",
    "len(my_characters)\n",
    "# there are three extra lines after the \"count me\"... \n",
    "# and the length of this variable\n"
   ]
  },
  {
   "cell_type": "markdown",
   "metadata": {},
   "source": [
    "<div class = \"alert alert-block alert-info\">\n",
    "\n",
    "> Now that we are aware that there are spaces that we might not be able to see\n",
    "\n",
    "> You may want to remove these spaces\n",
    "\n",
    "> Because they may lead to incorrect inferences"
   ]
  },
  {
   "cell_type": "markdown",
   "metadata": {},
   "source": [
    "<div class = \"alert alert-block alert-info\">\n",
    "\n",
    "<h2><center>The methods:</center></h2>\n",
    "\n",
    "                .strip ( )    (strip empty space from both sides)\n",
    "                .rstrip ( )   (strip empty space from the right side)\n",
    "                .lstrip ( )   (strip empty space from the left sides)\n"
   ]
  },
  {
   "cell_type": "code",
   "execution_count": 15,
   "metadata": {},
   "outputs": [
    {
     "data": {
      "text/plain": [
       "2013"
      ]
     },
     "execution_count": 15,
     "metadata": {},
     "output_type": "execute_result"
    }
   ],
   "source": [
    "# For now, let's go back to our original \"dna.txt\" file\n",
    "\n",
    "# I usually just use .strip().....\n",
    "# because then I know it will take care of empty space on the right and left side\n",
    "open_dna_file = open(\"dna.txt\") \n",
    "\n",
    "read_dna_in_file = open_dna_file.read()\n",
    "\n",
    "len(read_dna_in_file)\n"
   ]
  },
  {
   "cell_type": "code",
   "execution_count": 16,
   "metadata": {},
   "outputs": [
    {
     "data": {
      "text/plain": [
       "2012"
      ]
     },
     "execution_count": 16,
     "metadata": {},
     "output_type": "execute_result"
    }
   ],
   "source": [
    "open_dna_file = open(\"dna.txt\") \n",
    "\n",
    "read_dna_in_file = open_dna_file.read()\n",
    "\n",
    "stripped_read_dna_in_file = read_dna_in_file.strip()\n",
    "\n",
    "len(stripped_read_dna_in_file)\n",
    "\n",
    "\n",
    "# leaving it empty strips it off any space\n",
    "# whether its a blank space, a tab or a new line\n",
    "# So it looks as if there was at least one space, possibly at the end of the file\n"
   ]
  },
  {
   "cell_type": "markdown",
   "metadata": {},
   "source": [
    "<div class = \"alert alert-block alert-info\">\n",
    "\n",
    "> **NOTE:** You may also strip on other characters\n"
   ]
  },
  {
   "cell_type": "code",
   "execution_count": 17,
   "metadata": {},
   "outputs": [
    {
     "name": "stdout",
     "output_type": "stream",
     "text": [
      "CCGCGCTATCCGGTAATCTCCAAATTAAAA\n",
      "CCGCGCTATCCGGTAATCTCCAAATT\n"
     ]
    }
   ],
   "source": [
    "my_sequence = \"CCGCGCTATCCGGTAATCTCCAAATTAAAA\"\n",
    "strip_As_off_sequence = my_sequence.rstrip(\"AAAA\")\n",
    "\n",
    "print(my_sequence)\n",
    "print(strip_As_off_sequence)\n"
   ]
  },
  {
   "cell_type": "markdown",
   "metadata": {},
   "source": [
    "<div class = \"alert alert-block alert-info\">\n",
    "    \n",
    "> ***NOTE!! Python has more than one read method    \n",
    "    \n",
    "\n",
    "<h2><center>The methods:</center></h2>\n",
    "    \n",
    "                                  .read ( ) \n",
    "    \n",
    "                                  .readline( ) \n",
    "            \n",
    "                                  .readlines( )\n",
    "                                  \n",
    "> Let's understand the difference                                  "
   ]
  },
  {
   "cell_type": "code",
   "execution_count": 18,
   "metadata": {},
   "outputs": [
    {
     "name": "stdout",
     "output_type": "stream",
     "text": [
      "ATGGCAATAACCCCCCGTTTCTACTTCTAGAGGAGAAAAGTATTGACAT\n",
      "GAGCGCTCCCGGCACAAGGGCCAAAGAAGTCTCCAATTTCTTATTTCCG\n",
      "AATGACATGCGTCTCCTTGCGGGTAAATCACCGACCGCAATTCATAGAA\n",
      "GCCTGGGGGAACAGATAGGTCTAATTAGCTTAAGAGAGTAAATCCTGGG\n",
      "ATCATTCAGTAGTAACCATAAACTTACGCTGGGGCTTCTTCGGCGGATT\n",
      "TTTACAGTTACCAACCAGGAGATTTGAAGTAAATCAGTTGAGGATTTAG\n",
      "CCGCGCTATCCGGTAATCTCCAAATTAAAACATACCGTTCCATGAAGGC\n",
      "TAGAATTACTTACCGGCCTTTTCCATGCCTGCGCTATACCCCCCCACTC\n",
      "TCCCGCTTATCCGTCCGAGCGGAGGCAGTGCGATCCTCCGTTAAGATAT\n",
      "TCTTACGTGTGACGTAGCTATGTATTTTGCAGAGCTGGCGAACGCGTTG\n",
      "AACACTTCACAGATGGTAGGGATTCGGGTAAAGGGCGTATAATTGGGGA\n",
      "CTAACATAGGCGTAGACTACGATGGCGCCAACTCAATCGCAGCTCGAGC\n",
      "GCCCTGAATAACGTACTCATCTCAACTCATTCTCGGCAATCTACCGAGC\n",
      "GACTCGATTATCAACGGCTGTCTAGCAGTTCTAATCTTTTGCCAGCATC\n",
      "GTAATAGCCTCCAAGAGATTGATGATAGCTATCGGCACAGAACTGAGAC\n",
      "GGCGCCGATGGATAGCGGACTTTCGGTCAACCACAATTCCCCACGGGAC\n",
      "AGGTCCTGCGGTGCGCATCACTCTGAATGTACAAGCAACCCAAGTGGGC\n",
      "CGAGCCTGGACTCAGCTGGTTCCTGCGTGAGCTCGAGACTCGGGATGAC\n",
      "AGCTCTTTAAACATAGAGCGGGGGCGTCGAACGGTCGAGAAAGTCATAG\n",
      "TACCTCGGGTACCAACTTACTCAGGTTATTGCTTGAAGCTGTACTATTT\n",
      "TAGGGGGGGAGCGCTGAAGGTCTCTTCTTCTCATGACTGAACTCGCGAG\n",
      "GGTCGTGAAGTCGGTTCCTTCAATGGTTAAAAAACAAAGGCTTACTGTG\n",
      "CGCAGAGGAACGCCCATCTAGCGGCTGGCGTCTTGAATGCTCGGTCCCC\n",
      "TTTGTCATTCCGGATTAATCCATTTCCCTCATTCACGAGCTTGCGAAGT\n",
      "CTACATTGGTATATGAATGCGACCTAGAAGAGGGCGCTTAAAATTGGCA\n",
      "GTGGTTGATGCTCTAAACTCCATTTGGTTTACTCGTGCATCACCGCGAT\n",
      "AGGCTGACAAAGGTTTAACATTGAATAGCAAGGCACTTCCGGTCTCAAT\n",
      "GAACGGCCGGGAAAGGTACGCGCGCGGTATGGGAGGATCAAGGGGCCAA\n",
      "TAGAGAGGCTCCTCTCTCACTCGCTAGGAGGCAAATGTAAAACAATGGT\n",
      "TACTGCATCGATACATAAAACATGTCCATCGGTTGCCCAAAGTGTTAAG\n",
      "TGTCTATCACCCCTAGGGCCGTTTCCCGCATATAAACGCCAGGTTGTAT\n",
      "CCGCATTTGATGCTACCGTGGATGAGTCTGCGTCGAGCGCGCCGCACGA\n",
      "ATGTTGCAATGTATTGCATGAGTAGGGTTGACTAAGAGCCGTTAGATGC\n",
      "GTCGCTGTACTAATAGTTGTCGACAGACCGTCGAGATTAGAAAATGGTA\n",
      "CCAGCATTTTCGGAGGTTCTCTAACTAGTATGGATTGCGGTGTCTTCAC\n",
      "TGTGCTGCGGCTACCCATCGCCTGAAATCCAGCTGGTGTCAAGCCATCC\n",
      "CCTCTCCGGGACGCCGCATGTAGTGAAACATATACGTTGCACGGGTTCA\n",
      "CCGCGGTCCGTTCTGAGTCGACCAAGGACACAATCGAGCTCCGATCCGT\n",
      "ACCCTCGACAAACTTGTACCCGACCCCCGGAGCTTGCCAGCTCCTCGGG\n",
      "TATCATGGAGCCTGTGGTTCATCGCGTCCGATATCAAACTTCGTCATGA\n",
      "TAAAGTCCCCCCCTCGGGAGTACCAGAGAAGATGACTACTGAGTTGTGC\n",
      "GAT\n",
      "\n"
     ]
    }
   ],
   "source": [
    "# when we use \".read ()\", the system reads this as one complete string entity\n",
    "\n",
    "\n",
    "## NB!!!! This should obviously be the path to YOUR DESKTOP\n",
    "open_new_dna_file  = open(\"/home/tracey/Desktop/other_dna.txt\")\n",
    "read_new_dna_file = open_new_dna_file.read()\n",
    "print (read_new_dna_file)\n"
   ]
  },
  {
   "cell_type": "code",
   "execution_count": 19,
   "metadata": {},
   "outputs": [
    {
     "name": "stdout",
     "output_type": "stream",
     "text": [
      "ATGGCAATAACCCCCCGTTTCTACTTCTAGAGGAGAAAAGTATTGACAT\n",
      "\n"
     ]
    }
   ],
   "source": [
    "# When we use \".readline ( )\"\n",
    "# It reads only the fist line\n",
    "\n",
    "\n",
    "## NB!!!! This should obviously be the path to YOUR DESKTOP\n",
    "open_new_dna_file  = open(\"/home/tracey/Desktop/other_dna.txt\")\n",
    "readline_new_dna_file = open_new_dna_file.readline()\n",
    "print (readline_new_dna_file)\n"
   ]
  },
  {
   "cell_type": "code",
   "execution_count": 21,
   "metadata": {},
   "outputs": [
    {
     "name": "stdout",
     "output_type": "stream",
     "text": [
      "['ATGGCAATAACCCCCCGTTTCTACTTCTAGAGGAGAAAAGTATTGACAT\\n', 'GAGCGCTCCCGGCACAAGGGCCAAAGAAGTCTCCAATTTCTTATTTCCG\\n', 'AATGACATGCGTCTCCTTGCGGGTAAATCACCGACCGCAATTCATAGAA\\n', 'GCCTGGGGGAACAGATAGGTCTAATTAGCTTAAGAGAGTAAATCCTGGG\\n', 'ATCATTCAGTAGTAACCATAAACTTACGCTGGGGCTTCTTCGGCGGATT\\n', 'TTTACAGTTACCAACCAGGAGATTTGAAGTAAATCAGTTGAGGATTTAG\\n', 'CCGCGCTATCCGGTAATCTCCAAATTAAAACATACCGTTCCATGAAGGC\\n', 'TAGAATTACTTACCGGCCTTTTCCATGCCTGCGCTATACCCCCCCACTC\\n', 'TCCCGCTTATCCGTCCGAGCGGAGGCAGTGCGATCCTCCGTTAAGATAT\\n', 'TCTTACGTGTGACGTAGCTATGTATTTTGCAGAGCTGGCGAACGCGTTG\\n', 'AACACTTCACAGATGGTAGGGATTCGGGTAAAGGGCGTATAATTGGGGA\\n', 'CTAACATAGGCGTAGACTACGATGGCGCCAACTCAATCGCAGCTCGAGC\\n', 'GCCCTGAATAACGTACTCATCTCAACTCATTCTCGGCAATCTACCGAGC\\n', 'GACTCGATTATCAACGGCTGTCTAGCAGTTCTAATCTTTTGCCAGCATC\\n', 'GTAATAGCCTCCAAGAGATTGATGATAGCTATCGGCACAGAACTGAGAC\\n', 'GGCGCCGATGGATAGCGGACTTTCGGTCAACCACAATTCCCCACGGGAC\\n', 'AGGTCCTGCGGTGCGCATCACTCTGAATGTACAAGCAACCCAAGTGGGC\\n', 'CGAGCCTGGACTCAGCTGGTTCCTGCGTGAGCTCGAGACTCGGGATGAC\\n', 'AGCTCTTTAAACATAGAGCGGGGGCGTCGAACGGTCGAGAAAGTCATAG\\n', 'TACCTCGGGTACCAACTTACTCAGGTTATTGCTTGAAGCTGTACTATTT\\n', 'TAGGGGGGGAGCGCTGAAGGTCTCTTCTTCTCATGACTGAACTCGCGAG\\n', 'GGTCGTGAAGTCGGTTCCTTCAATGGTTAAAAAACAAAGGCTTACTGTG\\n', 'CGCAGAGGAACGCCCATCTAGCGGCTGGCGTCTTGAATGCTCGGTCCCC\\n', 'TTTGTCATTCCGGATTAATCCATTTCCCTCATTCACGAGCTTGCGAAGT\\n', 'CTACATTGGTATATGAATGCGACCTAGAAGAGGGCGCTTAAAATTGGCA\\n', 'GTGGTTGATGCTCTAAACTCCATTTGGTTTACTCGTGCATCACCGCGAT\\n', 'AGGCTGACAAAGGTTTAACATTGAATAGCAAGGCACTTCCGGTCTCAAT\\n', 'GAACGGCCGGGAAAGGTACGCGCGCGGTATGGGAGGATCAAGGGGCCAA\\n', 'TAGAGAGGCTCCTCTCTCACTCGCTAGGAGGCAAATGTAAAACAATGGT\\n', 'TACTGCATCGATACATAAAACATGTCCATCGGTTGCCCAAAGTGTTAAG\\n', 'TGTCTATCACCCCTAGGGCCGTTTCCCGCATATAAACGCCAGGTTGTAT\\n', 'CCGCATTTGATGCTACCGTGGATGAGTCTGCGTCGAGCGCGCCGCACGA\\n', 'ATGTTGCAATGTATTGCATGAGTAGGGTTGACTAAGAGCCGTTAGATGC\\n', 'GTCGCTGTACTAATAGTTGTCGACAGACCGTCGAGATTAGAAAATGGTA\\n', 'CCAGCATTTTCGGAGGTTCTCTAACTAGTATGGATTGCGGTGTCTTCAC\\n', 'TGTGCTGCGGCTACCCATCGCCTGAAATCCAGCTGGTGTCAAGCCATCC\\n', 'CCTCTCCGGGACGCCGCATGTAGTGAAACATATACGTTGCACGGGTTCA\\n', 'CCGCGGTCCGTTCTGAGTCGACCAAGGACACAATCGAGCTCCGATCCGT\\n', 'ACCCTCGACAAACTTGTACCCGACCCCCGGAGCTTGCCAGCTCCTCGGG\\n', 'TATCATGGAGCCTGTGGTTCATCGCGTCCGATATCAAACTTCGTCATGA\\n', 'TAAAGTCCCCCCCTCGGGAGTACCAGAGAAGATGACTACTGAGTTGTGC\\n', 'GAT\\n']\n"
     ]
    }
   ],
   "source": [
    "# The \".readlines ( )\"\n",
    "# Splits the file after every new line \"\\n\", and makes a list out of the file\n",
    "# where every new line is an item in the list\n",
    "# We will learn more about lists in the upcoming chapters\n",
    "\n",
    "\n",
    "## NB!!!! This should obviously be the path to YOUR DESKTOP\n",
    "open_new_dna_file  = open(\"/home/tracey/Desktop/other_dna.txt\")\n",
    "readlines_new_dna_file = open_new_dna_file.readlines()\n",
    "print (readlines_new_dna_file)\n"
   ]
  },
  {
   "cell_type": "markdown",
   "metadata": {},
   "source": [
    "<div class = \"alert alert-block alert-info\">\n",
    "    \n",
    "> List and strings can both be sliced using `[ : ]`\n",
    "\n",
    "> So, by using `.readlines( )`, you can for example skip reading the first 2 lines/elements\n",
    "\n",
    "> using the following"
   ]
  },
  {
   "cell_type": "code",
   "execution_count": 22,
   "metadata": {},
   "outputs": [
    {
     "name": "stdout",
     "output_type": "stream",
     "text": [
      "['AATGACATGCGTCTCCTTGCGGGTAAATCACCGACCGCAATTCATAGAA\\n', 'GCCTGGGGGAACAGATAGGTCTAATTAGCTTAAGAGAGTAAATCCTGGG\\n', 'ATCATTCAGTAGTAACCATAAACTTACGCTGGGGCTTCTTCGGCGGATT\\n', 'TTTACAGTTACCAACCAGGAGATTTGAAGTAAATCAGTTGAGGATTTAG\\n', 'CCGCGCTATCCGGTAATCTCCAAATTAAAACATACCGTTCCATGAAGGC\\n', 'TAGAATTACTTACCGGCCTTTTCCATGCCTGCGCTATACCCCCCCACTC\\n', 'TCCCGCTTATCCGTCCGAGCGGAGGCAGTGCGATCCTCCGTTAAGATAT\\n', 'TCTTACGTGTGACGTAGCTATGTATTTTGCAGAGCTGGCGAACGCGTTG\\n', 'AACACTTCACAGATGGTAGGGATTCGGGTAAAGGGCGTATAATTGGGGA\\n', 'CTAACATAGGCGTAGACTACGATGGCGCCAACTCAATCGCAGCTCGAGC\\n', 'GCCCTGAATAACGTACTCATCTCAACTCATTCTCGGCAATCTACCGAGC\\n', 'GACTCGATTATCAACGGCTGTCTAGCAGTTCTAATCTTTTGCCAGCATC\\n', 'GTAATAGCCTCCAAGAGATTGATGATAGCTATCGGCACAGAACTGAGAC\\n', 'GGCGCCGATGGATAGCGGACTTTCGGTCAACCACAATTCCCCACGGGAC\\n', 'AGGTCCTGCGGTGCGCATCACTCTGAATGTACAAGCAACCCAAGTGGGC\\n', 'CGAGCCTGGACTCAGCTGGTTCCTGCGTGAGCTCGAGACTCGGGATGAC\\n', 'AGCTCTTTAAACATAGAGCGGGGGCGTCGAACGGTCGAGAAAGTCATAG\\n', 'TACCTCGGGTACCAACTTACTCAGGTTATTGCTTGAAGCTGTACTATTT\\n', 'TAGGGGGGGAGCGCTGAAGGTCTCTTCTTCTCATGACTGAACTCGCGAG\\n', 'GGTCGTGAAGTCGGTTCCTTCAATGGTTAAAAAACAAAGGCTTACTGTG\\n', 'CGCAGAGGAACGCCCATCTAGCGGCTGGCGTCTTGAATGCTCGGTCCCC\\n', 'TTTGTCATTCCGGATTAATCCATTTCCCTCATTCACGAGCTTGCGAAGT\\n', 'CTACATTGGTATATGAATGCGACCTAGAAGAGGGCGCTTAAAATTGGCA\\n', 'GTGGTTGATGCTCTAAACTCCATTTGGTTTACTCGTGCATCACCGCGAT\\n', 'AGGCTGACAAAGGTTTAACATTGAATAGCAAGGCACTTCCGGTCTCAAT\\n', 'GAACGGCCGGGAAAGGTACGCGCGCGGTATGGGAGGATCAAGGGGCCAA\\n', 'TAGAGAGGCTCCTCTCTCACTCGCTAGGAGGCAAATGTAAAACAATGGT\\n', 'TACTGCATCGATACATAAAACATGTCCATCGGTTGCCCAAAGTGTTAAG\\n', 'TGTCTATCACCCCTAGGGCCGTTTCCCGCATATAAACGCCAGGTTGTAT\\n', 'CCGCATTTGATGCTACCGTGGATGAGTCTGCGTCGAGCGCGCCGCACGA\\n', 'ATGTTGCAATGTATTGCATGAGTAGGGTTGACTAAGAGCCGTTAGATGC\\n', 'GTCGCTGTACTAATAGTTGTCGACAGACCGTCGAGATTAGAAAATGGTA\\n', 'CCAGCATTTTCGGAGGTTCTCTAACTAGTATGGATTGCGGTGTCTTCAC\\n', 'TGTGCTGCGGCTACCCATCGCCTGAAATCCAGCTGGTGTCAAGCCATCC\\n', 'CCTCTCCGGGACGCCGCATGTAGTGAAACATATACGTTGCACGGGTTCA\\n', 'CCGCGGTCCGTTCTGAGTCGACCAAGGACACAATCGAGCTCCGATCCGT\\n', 'ACCCTCGACAAACTTGTACCCGACCCCCGGAGCTTGCCAGCTCCTCGGG\\n', 'TATCATGGAGCCTGTGGTTCATCGCGTCCGATATCAAACTTCGTCATGA\\n', 'TAAAGTCCCCCCCTCGGGAGTACCAGAGAAGATGACTACTGAGTTGTGC\\n', 'GAT\\n']\n"
     ]
    }
   ],
   "source": [
    "## NB!!!! This should obviously be the path to YOUR DESKTOP\n",
    "open_new_dna_file  = open(\"/home/tracey/Desktop/other_dna.txt\")\n",
    "readlines_new_dna_file = open_new_dna_file.readlines()\n",
    "skip_2_lines = readlines_new_dna_file[2:] # you skipped elements 0 and element 1\n",
    "print(skip_2_lines) \n"
   ]
  },
  {
   "cell_type": "code",
   "execution_count": 23,
   "metadata": {},
   "outputs": [
    {
     "name": "stdout",
     "output_type": "stream",
     "text": [
      "GGCAATAACCCCCCGTTTCTACTTCTAGAGGAGAAAAGTATTGACAT\n",
      "\n"
     ]
    }
   ],
   "source": [
    "# or you can read\n",
    "## NB!!!! This should obviously be the path to YOUR DESKTOP\n",
    "open_new_dna_file  = open(\"/home/tracey/Desktop/other_dna.txt\")\n",
    "readlines_new_dna_file = open_new_dna_file.readline()\n",
    "skip_2_lines = readlines_new_dna_file[2:] # you skipped elements 0 and element 1\n",
    "print(skip_2_lines) \n",
    "\n"
   ]
  },
  {
   "cell_type": "markdown",
   "metadata": {},
   "source": [
    "<div class = \"alert alert-block alert-info\">\n",
    "    \n",
    "\n",
    "> One thing that we haven't covered thus far\n",
    "\n",
    "\n",
    "> Is that you should always close your file\n",
    "\n",
    "\n",
    "> after you've read in what you needed using the **method**:\n",
    "\n",
    "\n",
    "> `input_file.close()`"
   ]
  },
  {
   "cell_type": "code",
   "execution_count": 24,
   "metadata": {},
   "outputs": [
    {
     "name": "stdout",
     "output_type": "stream",
     "text": [
      "GGCAATAACCCCCCGTTTCTACTTCTAGAGGAGAAAAGTATTGACAT\n",
      "\n"
     ]
    }
   ],
   "source": [
    "## NB!!!! This should obviously be the path to YOUR DESKTOP\n",
    "\n",
    "open_new_dna_file  = open(\"/home/tracey/Desktop/other_dna.txt\")\n",
    "readlines_new_dna_file = open_new_dna_file.readline()\n",
    "skip_2_lines = readlines_new_dna_file[2:] # you skipped elements 0 and element 1\n",
    "print(skip_2_lines) \n",
    "open_new_dna_file.close()"
   ]
  },
  {
   "cell_type": "markdown",
   "metadata": {},
   "source": [
    "<div class = \"alert alert-block alert-info\">\n",
    "\n",
    "> Here it may not make as much sense as to why you may want to read in your lines as a list with each line being an item, but there are occasions where may want this\n",
    "\n",
    "> I usually use the `.read ( )`\n",
    "\n",
    "> And use a `for loop` to access the lines in the file that I wish to work with\n",
    "\n",
    "> But we haven't done loops yet\n",
    "\n",
    "> So we will see that later"
   ]
  },
  {
   "cell_type": "markdown",
   "metadata": {},
   "source": [
    "<div class = \"alert alert-block alert-info\">\n",
    "\n",
    "> ***Note***\n",
    "> There are other libraries that can be imported that helps us to better read in manipulate certain file types and the data in the file\n",
    "\n",
    "> Libraries can be imported e..g:\n",
    "\n",
    "> `import csv`\n",
    "\n",
    "> `import pandas`\n",
    "\n",
    "> `from Bio import SeqIO`.....(This is from the BioPython collection of Python tools)\n",
    "\n"
   ]
  },
  {
   "cell_type": "markdown",
   "metadata": {},
   "source": [
    "<div class = \"alert alert-block alert-info\">\n",
    "\n",
    "<h2><center>Writing to files</center></h2>"
   ]
  },
  {
   "cell_type": "markdown",
   "metadata": {},
   "source": [
    "<div class = \"alert alert-block alert-info\">\n",
    "\n",
    "> In order to write content to a file, you need to take care of five things:\n",
    "\n",
    "    \n",
    "**1.** **Create/name** an output file\n",
    "\n",
    "\n",
    "**2.** Instruct it to **open the file** for **writing**\n",
    "\n",
    "\n",
    "**3.** Instruct it when it needs to start writing \n",
    "   \n",
    "\n",
    "**4.** Instruct it on **what** it should write\n",
    "\n",
    "**5.** Close the file\n",
    "\n",
    "\n",
    "\n",
    "> Remember, you've only opened files for reading, thus far \n",
    "\n",
    "> **These instructions actually pertain to reading files too. Even though you may not be aware that you followed all these steps**\n"
   ]
  },
  {
   "cell_type": "markdown",
   "metadata": {},
   "source": [
    "<div class = \"alert alert-block alert-info\">\n",
    "\n",
    "> There are two ways to write:\n",
    "    \n",
    "> And it will all depend on what you chose when you opened the file  <br> <br><br> \n",
    "\n",
    "**1.** Start writing your output from the top of the file <br>\n",
    "\n",
    "   Even if it means you overwrite everything that was already in the file\n",
    "\n",
    "`open(output_file, \"w\")` \n",
    "    <br> <br>\n",
    "\n",
    "**2.** Start writing on a new line, AFTER the last character in the file (append)\n",
    "\n",
    "`open(output_file, \"a\")`  "
   ]
  },
  {
   "cell_type": "markdown",
   "metadata": {},
   "source": [
    "> Let's open an output file and write \n",
    "\n",
    "> ***This is the end of the file***, into the output file, using the append mode\n",
    "\n",
    "> But let's first see if there is already data in the output file"
   ]
  },
  {
   "cell_type": "code",
   "execution_count": 25,
   "metadata": {},
   "outputs": [],
   "source": [
    "## NB!!!! This should obviously be the path to YOUR DESKTOP\n",
    "\n",
    "outfile = open(\"/home/tracey/Desktop/outfile.txt\", \"a\")\n",
    "outfile.write(\"This is the end of the file\")\n",
    "outfile.close() \n",
    "\n",
    "\n",
    "# note that we have to close the file\n",
    "# Or you will notice, that you probably need to run this code twice\n",
    "# Before you are able to see the line in the file\n",
    "# Closing files after reading and writing, is GOOD PRACTICE\n"
   ]
  },
  {
   "cell_type": "code",
   "execution_count": 26,
   "metadata": {},
   "outputs": [],
   "source": [
    "# Notice the difference between the append and the write mode\n",
    "\n",
    "## NB!!!! This should obviously be the path to YOUR DESKTOP\n",
    "outfile = open(\"/home/tracey/Desktop/outfile.txt\", \"w\")\n",
    "outfile.write(\"I will overwrite what is already in your file\")\n",
    "outfile.close()\n"
   ]
  },
  {
   "cell_type": "code",
   "execution_count": 27,
   "metadata": {},
   "outputs": [],
   "source": [
    "# The previous output file, called outfile.txt\", already existed\n",
    "# But if your output file does not exist,\n",
    "# you can create it, in the same way\n",
    "\n",
    "\n",
    "## NB!!!! This should obviously be the path to YOUR DESKTOP\n",
    "outfile = open(\"/home/tracey/Desktop/new_outfile.txt\", \"w\")\n",
    "\n",
    "outfile.write(\"This is the a new output file\")\n",
    "\n",
    "outfile.close()\n"
   ]
  },
  {
   "cell_type": "markdown",
   "metadata": {},
   "source": [
    "<div class = \"alert alert-block alert-info\">\n",
    "    \n",
    "<h2><center> Best Practice</center></h2> \n",
    "\n",
    ">   It is very common to forget to close a file after we've opened it <br>\n",
    "          \n",
    ">   By adding a **`with`** in front of the function<br>\n",
    "   \n",
    ">   We **automatically close** the file \n",
    "\n",
    ">   Instead of `open (file, 'mode')`, use<br>\n",
    "\n",
    "               with open (file, 'mode')"
   ]
  },
  {
   "cell_type": "code",
   "execution_count": 28,
   "metadata": {},
   "outputs": [],
   "source": [
    "# We can rewrite:\n",
    "\n",
    "outfile = open(\"new_outfile.txt\", \"w\")\n",
    "outfile.write(\"This is the a new output file\")\n",
    "outfile.close()\n",
    "\n",
    "# as\n",
    "\n",
    "with open(\"new_outfile.txt\", \"w\") as outfile: \n",
    "    outfile.write(\"This is the a new output file\")\n",
    "\n",
    "# we don't need the line \"outfile.close()\"\n",
    "# the \"with\" part, takes care of that\n",
    "\n",
    "# Let's find the file called \"new_outfile.txt\" on my Desktop"
   ]
  },
  {
   "cell_type": "markdown",
   "metadata": {},
   "source": [
    "     \n",
    "> **What went wrong above?**\n",
    "\n",
    "\n",
    "> **Why is this file not on my Desktop?**"
   ]
  },
  {
   "cell_type": "code",
   "execution_count": 29,
   "metadata": {},
   "outputs": [],
   "source": [
    "# If I want it on my Desktop\n",
    "# I need to specify this\n",
    "\n",
    "# Or it will create an output file in the directory where this script is\n",
    "\n",
    "## NB!!!! This should obviously be the path to YOUR DESKTOP\n",
    "with open(\"/home/tracey/Desktop/new_outfile.txt\", \"w\") as outfile:\n",
    "    outfile.write(\"This is the a new output file\")\n",
    "    "
   ]
  },
  {
   "cell_type": "code",
   "execution_count": 32,
   "metadata": {},
   "outputs": [
    {
     "name": "stdout",
     "output_type": "stream",
     "text": [
      "ATGGCAATAACCCCCCGTTTCTACTTCTAGAGGAGAAAAGTATTGACATGAGCGCTCCCGGCACAAGGGCCAAAGAAGTCTCCAATTTCTTATTTCCGAATGACATGCGTCTCCTTGCGGGTAAATCACCGACCGCAATTCATAGAAGCCTGGGGGAACAGATAGGTCTAATTAGCTTAAGAGAGTAAATCCTGGGATCATTCAGTAGTAACCATAAACTTACGCTGGGGCTTCTTCGGCGGATTTTTACAGTTACCAACCAGGAGATTTGAAGTAAATCAGTTGAGGATTTAGCCGCGCTATCCGGTAATCTCCAAATTAAAACATACCGTTCCATGAAGGCTAGAATTACTTACCGGCCTTTTCCATGCCTGCGCTATACCCCCCCACTCTCCCGCTTATCCGTCCGAGCGGAGGCAGTGCGATCCTCCGTTAAGATATTCTTACGTGTGACGTAGCTATGTATTTTGCAGAGCTGGCGAACGCGTTGAACACTTCACAGATGGTAGGGATTCGGGTAAAGGGCGTATAATTGGGGACTAACATAGGCGTAGACTACGATGGCGCCAACTCAATCGCAGCTCGAGCGCCCTGAATAACGTACTCATCTCAACTCATTCTCGGCAATCTACCGAGCGACTCGATTATCAACGGCTGTCTAGCAGTTCTAATCTTTTGCCAGCATCGTAATAGCCTCCAAGAGATTGATGATAGCTATCGGCACAGAACTGAGACGGCGCCGATGGATAGCGGACTTTCGGTCAACCACAATTCCCCACGGGACAGGTCCTGCGGTGCGCATCACTCTGAATGTACAAGCAACCCAAGTGGGCCGAGCCTGGACTCAGCTGGTTCCTGCGTGAGCTCGAGACTCGGGATGACAGCTCTTTAAACATAGAGCGGGGGCGTCGAACGGTCGAGAAAGTCATAGTACCTCGGGTACCAACTTACTCAGGTTATTGCTTGAAGCTGTACTATTTTAGGGGGGGAGCGCTGAAGGTCTCTTCTTCTCATGACTGAACTCGCGAGGGTCGTGAAGTCGGTTCCTTCAATGGTTAAAAAACAAAGGCTTACTGTGCGCAGAGGAACGCCCATCTAGCGGCTGGCGTCTTGAATGCTCGGTCCCCTTTGTCATTCCGGATTAATCCATTTCCCTCATTCACGAGCTTGCGAAGTCTACATTGGTATATGAATGCGACCTAGAAGAGGGCGCTTAAAATTGGCAGTGGTTGATGCTCTAAACTCCATTTGGTTTACTCGTGCATCACCGCGATAGGCTGACAAAGGTTTAACATTGAATAGCAAGGCACTTCCGGTCTCAATGAACGGCCGGGAAAGGTACGCGCGCGGTATGGGAGGATCAAGGGGCCAATAGAGAGGCTCCTCTCTCACTCGCTAGGAGGCAAATGTAAAACAATGGTTACTGCATCGATACATAAAACATGTCCATCGGTTGCCCAAAGTGTTAAGTGTCTATCACCCCTAGGGCCGTTTCCCGCATATAAACGCCAGGTTGTATCCGCATTTGATGCTACCGTGGATGAGTCTGCGTCGAGCGCGCCGCACGAATGTTGCAATGTATTGCATGAGTAGGGTTGACTAAGAGCCGTTAGATGCGTCGCTGTACTAATAGTTGTCGACAGACCGTCGAGATTAGAAAATGGTACCAGCATTTTCGGAGGTTCTCTAACTAGTATGGATTGCGGTGTCTTCACTGTGCTGCGGCTACCCATCGCCTGAAATCCAGCTGGTGTCAAGCCATCCCCTCTCCGGGACGCCGCATGTAGTGAAACATATACGTTGCACGGGTTCACCGCGGTCCGTTCTGAGTCGACCAAGGACACAATCGAGCTCCGATCCGTACCCTCGACAAACTTGTACCCGACCCCCGGAGCTTGCCAGCTCCTCGGGTATCATGGAGCCTGTGGTTCATCGCGTCCGATATCAAACTTCGTCATGATAAAGTCCCCCCCTCGGGAGTACCAGAGAAGATGACTACTGAGTTGTGCGAT\n"
     ]
    }
   ],
   "source": [
    "# \"with open(file, mode)\" should also be used when opening a file for reading\n",
    "\n",
    "with open(\"dna.txt\") as open_dna_file:\n",
    "    read_dna_in_file = open_dna_file.read().strip()\n",
    "    \n",
    "print(read_dna_in_file)    \n"
   ]
  },
  {
   "cell_type": "code",
   "execution_count": 37,
   "metadata": {},
   "outputs": [],
   "source": [
    "# otherwise you should close it yourself\n",
    "\n",
    "open_dna_file = open(\"dna.txt\") \n",
    "\n",
    "read_dna_in_file = open_dna_file.read()\n",
    "\n",
    "open_dna_file.close()\n"
   ]
  },
  {
   "cell_type": "markdown",
   "metadata": {},
   "source": [
    "<div class = \"alert alert-block alert-info\" >\n",
    "\n",
    "<h1><center>EXERCISES</center></h1>"
   ]
  },
  {
   "cell_type": "markdown",
   "metadata": {},
   "source": [
    "***1. Splitting genomic DNA*** <br>\n",
    "\n",
    "**a)** Look in the chapter_3  folder, for a file called \"genomic_dna.txt\".\n",
    "\n",
    "It contains the same piece of genomic DNA that we were using in the final exercise from chapter 2 <br>\n",
    "\n",
    "**b)** Write a program that will split the genomic DNA into coding and non-coding parts, and\n",
    "write these sequences to two separate files.<br><br>\n",
    "\n",
    "**Hint: use your solution to the last exercise from chapter 2 as a starting point.**"
   ]
  },
  {
   "cell_type": "code",
   "execution_count": 38,
   "metadata": {},
   "outputs": [],
   "source": [
    "###############\n",
    "# Solution 1a #\n",
    "###############\n",
    "\n",
    "\n",
    "# NB!! Remember that YOUR \"genomic_dna.txt\" file will be in a different directory. \n",
    "# So use the path where your file is\n",
    "## NB!!!! This should obviously be the path to YOUR DESKTOP\n",
    "\n",
    "# Locate all and create the necessary files\n",
    "in_file =  open (\"/home/tracey/Desktop/genomic_dna.txt\") \n",
    "output_coding = open(\"/home/tracey/Desktop/coding_file.txt\", \"w\") \n",
    "output_non_coding = open (\"/home/tracey/Desktop/non_coding_file.txt\", \"w\")      \n",
    "\n",
    "# read the input file\n",
    "genomic_dna = in_file.read()\n",
    "    \n",
    "\n",
    "# get the introns and exons from my file\n",
    "first_exon = genomic_dna[:62] \n",
    "last_exon = genomic_dna[90:] \n",
    "combined_exons = first_exon + last_exon\n",
    "intron = (genomic_dna[62:90]).lower()\n",
    "\n",
    "# write my output to their respective files\n",
    "output_coding.write(combined_exons)\n",
    "output_non_coding.write(intron)\n",
    "\n",
    "# close the files\n",
    "in_file.close()\n",
    "output_coding.close()\n",
    "output_non_coding.close()\n",
    "    "
   ]
  },
  {
   "cell_type": "markdown",
   "metadata": {},
   "source": [
    "<div class = \"alert alert-block alert-info\" >\n",
    "\n",
    "> **The better solution would be this one**"
   ]
  },
  {
   "cell_type": "code",
   "execution_count": 39,
   "metadata": {},
   "outputs": [],
   "source": [
    "###############\n",
    "# Solution 1b #\n",
    "###############\n",
    "\n",
    "\n",
    "# NB!! Remember that your genomic file will be in a different directory. \n",
    "# So use the path where your file is\n",
    "\n",
    "\n",
    "# Locate all and create the necessary files\n",
    "## NB!!!! This should obviously be the path to YOUR DESKTOP\n",
    "with open (\"/home/tracey/Desktop/genomic_dna.txt\") as in_file, \\\n",
    "    open (\"/home/tracey/Desktop/coding_file.txt\", \"w\") as output_coding, \\\n",
    "    open (\"/home/tracey/Desktop/non_coding_file.txt\", \"w\") as output_non_coding:\n",
    "\n",
    "    \n",
    "    # read the input file    \n",
    "    genomic_dna = in_file.read().strip()\n",
    "    \n",
    "    \n",
    "    # get the introns and exons from my file\n",
    "    first_exon = genomic_dna[:62] \n",
    "    last_exon = genomic_dna[90:] \n",
    "    combined_exons = first_exon + last_exon\n",
    "    intron = (genomic_dna[62:90]).lower()\n",
    "    \n",
    "    # write my output to their respective files\n",
    "    output_coding.write(combined_exons)\n",
    "    output_non_coding.write(intron)\n",
    "    \n",
    "\n",
    "    # Note that you have to stick to the indentation\n",
    "    # I opened all the files I needed at once, by separating them with commas    \n",
    "    # I used the escape character \"\\\", so that I don't have to write it all in one line\n",
    "    # Makes the code easier to read\n",
    "    # Please note, that you will NOT always open a file for writing, at the beginning.\n",
    "    \n"
   ]
  },
  {
   "cell_type": "markdown",
   "metadata": {},
   "source": [
    "***2. Writing a FASTA file*** <br><br>\n",
    "\n",
    "FASTA file format is a commonly-used DNA and protein sequence file format. \n",
    "\n",
    "\n",
    "A single sequence in FASTA format looks like this:<br><br>\n",
    "\n",
    "\n",
    "**>sequence_name**\n",
    "\n",
    "**ATCGACTGATCGATCGTACGAT**\n",
    "\n",
    "<br>\n",
    "Where sequence_name is a header that describes the sequence (the greater-than symbol indicates the start of the header line). \n",
    "\n",
    "Often, the header contains an accession number that relates to the record for the sequence in a public sequence\n",
    "database. \n",
    "\n",
    "\n",
    "A single FASTA file can contain multiple sequences, like this:\n",
    "\n",
    "**\\>sequence_one**\n",
    "\n",
    "**ATCGATCGATCGATCGAT**\n",
    "\n",
    "**>sequence_two**\n",
    "\n",
    "**ACTAGCTAGCTAGCATCG**\n",
    "\n",
    "**sequence_three**\n",
    "\n",
    "**ACTGCATCGATCGTACCT**\n",
    "\n",
    "<br><br>\n",
    "\n",
    "Write a program that will create a FASTA file for the following three sequences***\n",
    "\n",
    "make sure that all sequences are in upper case and only contain the bases A, T, G and C\n",
    "<br><br>\n",
    "\n",
    "|<h3>Sequence header</h3>    |<h3>DNA sequence</h3>                                  |\n",
    "|--------------------        |-------------------------------------                  |\n",
    "|<center>ABC123</center>     |     <center>ATCGTACGATCGATCGATCGCTAGACGTATCG</center> |\n",
    "|<center>DEF456</center>     |    <center> actgatcgacgatcgatcgatcacgact </center>    |\n",
    "|<center>HIJ789</center>     |    <center> ACTGAC-ACTGT--ACTGTA----CATGTG</center>   |\n",
    "\n"
   ]
  },
  {
   "cell_type": "code",
   "execution_count": 40,
   "metadata": {},
   "outputs": [],
   "source": [
    "###############\n",
    "# Solution 2 #\n",
    "###############\n",
    "\n",
    "\n",
    "# store the sequences in an appropriate variable name\n",
    "\n",
    "ABC123 = \"ATCGTACGATCGATCGATCGCTAGACGTATCG\"\n",
    "DEF456 = \"actgatcgacgatcgatcgatcacgact\".upper() # covert to upper case\n",
    "HIJ789 = \"ACTGAC-ACTGT--ACTGTA----CATGTG\".replace(\"-\",\"\") # removing the \"-\"\n",
    "\n",
    "ABC123_seq_name = \">ABC123\"\n",
    "DEF456_seq_name = \">DEF456\"\n",
    "HIJ789_seq_name = \">HIJ789\"\n",
    "\n",
    "ABC123_line = ABC123_seq_name + \"\\n\" + ABC123 + \"\\n\"\n",
    "DEF456_line = DEF456_seq_name + \"\\n\" + DEF456 + \"\\n\"\n",
    "HIJ789_line = HIJ789_seq_name + \"\\n\" + HIJ789\n",
    "# another way of writing it is\n",
    "# ABC123_line = f\">ABC123\\n{ABC123}\\n\"\n",
    "\n",
    "\n",
    "# print (HIJ789_line)\n",
    "\n",
    "\n",
    "with open (\"/home/tracey/Desktop/three_sequences.fasta\", \"w\") as dna_out:\n",
    "    \n",
    "    dna_out.write(ABC123_line)\n",
    "    dna_out.write(DEF456_line)\n",
    "    dna_out.write(HIJ789_line)                \n",
    "    \n",
    "    "
   ]
  },
  {
   "cell_type": "markdown",
   "metadata": {},
   "source": [
    "***3. Writing multiple FASTA files***\n",
    "\n",
    "Use the data from the previous exercise, but instead of creating a single FASTA file,\n",
    "\n",
    "create three new FASTA files – one per sequence. The names of the FASTA files\n",
    "\n",
    "should be the same as the sequence header names, with the extension .fasta."
   ]
  },
  {
   "cell_type": "code",
   "execution_count": 41,
   "metadata": {},
   "outputs": [],
   "source": [
    "###############\n",
    "# Solution 3a #\n",
    "###############\n",
    "\n",
    "# store the sequences in an appropriate variable name\n",
    "\n",
    "ABC123 = \"ATCGTACGATCGATCGATCGCTAGACGTATCG\"\n",
    "DEF456 = \"actgatcgacgatcgatcgatcacgact\".upper() # covert to upper case\n",
    "HIJ789 = \"ACTGAC-ACTGT--ACTGTA----CATGTG\".replace(\"-\",\"\") # removing the \"-\"\n",
    "\n",
    "\n",
    "# Note that I first printed them all, to see if they were correct, before I wrote them to the files.\n",
    "#print(HIJ789)\n",
    "\n",
    "ABC123_seq_name = \">ABC123\"\n",
    "DEF456_seq_name = \">DEF456\"\n",
    "HIJ789_seq_name = \">HIJ789\"\n",
    "\n",
    "ABC123_line = ABC123_seq_name + \"\\n\" + ABC123 + \"\\n\"\n",
    "DEF456_line = DEF456_seq_name + \"\\n\" + DEF456 + \"\\n\"\n",
    "HIJ789_line = HIJ789_seq_name + \"\\n\" + HIJ789 + \"\\n\"\n",
    "\n",
    "\n",
    "# open three separate output files\n",
    "# write the appropriate line to the correspondinf output file\n",
    "\n",
    "## NB!!!! This should obviously be the path to YOUR DESKTOP\n",
    "with open (\"/home/tracey/Desktop/ABC123.fasta\", \"w\") as ABC123_out, \\\n",
    "    open (\"/home/tracey/Desktop/DEF456.fasta\", \"w\") as DEF456_out, \\\n",
    "    open (\"/home/tracey/Desktop/HIJ789.fasta\", \"w\") as HIJ789_out:\n",
    "\n",
    "\n",
    "    ABC123_out.write(ABC123_line)\n",
    "    DEF456_out.write(DEF456_line)\n",
    "    HIJ789_out.write(HIJ789_line)\n",
    "        "
   ]
  },
  {
   "cell_type": "markdown",
   "metadata": {},
   "source": [
    "\n",
    "> Let's say that you find your desktop is becoming all cluttered from printing all these files\n",
    "\n",
    "> And you want to create a folder for the new output files\n",
    "\n",
    "> But you're not sure if the folder name already exists\n",
    "\n",
    "> You can import a library called `os`, and allow it to check if it exists\n",
    "\n",
    "> If it doesn't, you can tell it to create the directory\n",
    "\n",
    "> We will learn more about this in later chapters"
   ]
  },
  {
   "cell_type": "code",
   "execution_count": 42,
   "metadata": {},
   "outputs": [],
   "source": [
    "###############\n",
    "# Solution 3b #\n",
    "###############\n",
    "\n",
    "\n",
    "import os\n",
    "\n",
    "ABC123 = \"ATCGTACGATCGATCGATCGCTAGACGTATCG\"\n",
    "DEF456 = \"actgatcgacgatcgatcgatcacgact\".upper()\n",
    "HIJ789 = \"ACTGAC-ACTGT--ACTGTA----CATGTG\".replace(\"-\",\"\")\n",
    "\n",
    "ABC123_seq_name = \">ABC123\"\n",
    "DEF456_seq_name = \">DEF456\"\n",
    "HIJ789_seq_name = \">HIJ789\"\n",
    "\n",
    "ABC123_line = ABC123_seq_name + \"\\n\" + ABC123 + \"\\n\"\n",
    "DEF456_line = DEF456_seq_name + \"\\n\" + DEF456 + \"\\n\"\n",
    "HIJ789_line = HIJ789_seq_name + \"\\n\" + HIJ789 + \"\\n\"\n",
    "\n",
    "\n",
    "# Note that I first printed them all, to see if they were correct, before I wrote them to the files.\n",
    "#print(HIJ789)\n",
    "\n",
    "## NB!!!! This should obviously be the path to YOUR DESKTOP\n",
    "if not os.path.exists(\"/home/tracey/Desktop/Test_dir\"):\n",
    "    os.makedirs(\"/home/tracey/Desktop/Test_dir\")\n",
    "                     \n",
    "with open (\"/home/tracey/Desktop/Test_dir/ABC123.fasta\", \"w\") as ABC123_out, \\\n",
    "    open (\"/home/tracey/Desktop/Test_dir/DEF456.fasta\", \"w\") as DEF456_out, \\\n",
    "    open (\"/home/tracey/Desktop/Test_dir/HIJ789.fasta\", \"w\") as HIJ789_out:\n",
    "    \n",
    "\n",
    "    ABC123_out.write(ABC123_line)\n",
    "    DEF456_out.write(DEF456_line)\n",
    "    HIJ789_out.write(HIJ789_line)"
   ]
  },
  {
   "cell_type": "markdown",
   "metadata": {},
   "source": [
    "<div class = \"alert alert-block alert-info\" >\n",
    "\n",
    "<h1><center>ADDITIONAL Exercises</center></h1>"
   ]
  },
  {
   "cell_type": "markdown",
   "metadata": {},
   "source": [
    "**Additional Exercise 1**\n",
    "\n",
    "a) You have a file called **ls_orchid.fasta** on your **Desktop**\n",
    "\n",
    "b) Read in the file\n",
    "\n",
    "c) Check if the sequence \"AAGGAT\" is in the file\n",
    "\n",
    "d) Store this in a variable called \"answer\"\n",
    "\n",
    "e) Print the variable called \"answer\"\n",
    "\n",
    "f) What was your answer?\n",
    "\n",
    "g) Now make up a sequence with six characters made up of any combination of \n",
    "\"A\",\"T\",\"C\",\"G\" and \"N\"\n",
    "\n",
    "h) Store it in a variable name called \"my_sequence\"\n",
    "\n",
    "I) Check if my_sequence is in your file\n",
    "\n",
    "j) Print your variable called \"my_sequence\"\n",
    "\n",
    "\n"
   ]
  },
  {
   "cell_type": "code",
   "execution_count": 43,
   "metadata": {},
   "outputs": [
    {
     "name": "stdout",
     "output_type": "stream",
     "text": [
      "True\n",
      "False\n"
     ]
    }
   ],
   "source": [
    "## NB!!!! This should obviously be the path to YOUR DESKTOP\n",
    "\n",
    "with open(\"/home/tracey/Desktop/ls_orchid.fasta\") as infile:\n",
    "    read_infile = infile.read()\n",
    "\n",
    "    #print(read_infile)\n",
    "    answer = \"AAGGAT\" in read_infile\n",
    "    print(answer)\n",
    "    \n",
    "    my_sequence = \"AANTTT\" in read_infile\n",
    "    print(my_sequence)\n"
   ]
  },
  {
   "cell_type": "markdown",
   "metadata": {},
   "source": [
    "**Additional Exercise 2**\n",
    "\n",
    "a) I have a multifasta file on my desktop, called **ls_orchid.fasta**\n",
    "\n",
    "b) Use BioPython to read in the file and show me all the sequence IDs \n",
    "\n",
    "c) Print out a glimpse of the nucleotide sequences for each fasta sequence\n",
    "\n",
    "d) Print out the length of each sequence"
   ]
  },
  {
   "cell_type": "code",
   "execution_count": 44,
   "metadata": {},
   "outputs": [
    {
     "name": "stdout",
     "output_type": "stream",
     "text": [
      "/home/tracey/Desktop\n",
      "gi|2765658|emb|Z78533.1|CIZ78533\n",
      "Seq('CGTAACAAGGTTTCCGTAGGTGAACCTGCGGAAGGATCATTGATGAGACCGTGG...CGC')\n",
      "740\n",
      "gi|2765657|emb|Z78532.1|CCZ78532\n",
      "Seq('CGTAACAAGGTTTCCGTAGGTGAACCTGCGGAAGGATCATTGTTGAGACAACAG...GGC')\n",
      "753\n",
      "gi|2765656|emb|Z78531.1|CFZ78531\n",
      "Seq('CGTAACAAGGTTTCCGTAGGTGAACCTGCGGAAGGATCATTGTTGAGACAGCAG...TAA')\n",
      "748\n",
      "gi|2765655|emb|Z78530.1|CMZ78530\n",
      "Seq('CGTAACAAGGTTTCCGTAGGTGAACCTGCGGAAGGATCATTGTTGAAACAACAT...CAT')\n",
      "744\n",
      "gi|2765654|emb|Z78529.1|CLZ78529\n",
      "Seq('ACGGCGAGCTGCCGAAGGACATTGTTGAGACAGCAGAATATACGATTGAGTGAA...AAA')\n",
      "733\n",
      "gi|2765652|emb|Z78527.1|CYZ78527\n",
      "Seq('CGTAACAAGGTTTCCGTAGGTGAACCTGCGGAAGGATCATTGTTGAGACAGTAG...CCC')\n",
      "718\n",
      "gi|2765651|emb|Z78526.1|CGZ78526\n",
      "Seq('CGTAACAAGGTTTCCGTAGGTGAACCTGCGGAAGGATCATTGTTGAGACAGTAG...TGT')\n",
      "730\n",
      "gi|2765650|emb|Z78525.1|CAZ78525\n",
      "Seq('TGTTGAGATAGCAGAATATACATCGAGTGAATCCGGAGGACCTGTGGTTATTCG...GCA')\n",
      "704\n",
      "gi|2765649|emb|Z78524.1|CFZ78524\n",
      "Seq('CGTAACAAGGTTTCCGTAGGTGAACCTGCGGAAGGATCATTGTTGAGATAGTAG...AGC')\n",
      "740\n",
      "gi|2765648|emb|Z78523.1|CHZ78523\n",
      "Seq('CGTAACCAGGTTTCCGTAGGTGAACCTGCGGCAGGATCATTGTTGAGACAGCAG...AAG')\n",
      "709\n",
      "gi|2765647|emb|Z78522.1|CMZ78522\n",
      "Seq('CGTAACAAGGTTTCCGTAGGTGAACCTGCGGAAGGATCATTGTTGAGACAGCAG...GAG')\n",
      "700\n",
      "gi|2765646|emb|Z78521.1|CCZ78521\n",
      "Seq('GTAGGTGAACCTGCGGAAGGATCATTGTTGAGACAGTAGAATATATGATCGAGT...ACC')\n",
      "726\n",
      "gi|2765645|emb|Z78520.1|CSZ78520\n",
      "Seq('CGTAACAAGGTTTCCGTAGGTGAACCTGCGGAAGGATCATTGTTGAGACAGCAG...TTT')\n",
      "753\n",
      "gi|2765644|emb|Z78519.1|CPZ78519\n",
      "Seq('ATATGATCGAGTGAATCTGGTGGACTTGTGGTTACTCAGCTCGCCATAGGCTTT...TTA')\n",
      "699\n",
      "gi|2765643|emb|Z78518.1|CRZ78518\n",
      "Seq('CGTAACAAGGTTTCCGTAGGTGAACCTGCGGGAGGATCATTGTTGAGATAGTAG...TCC')\n",
      "658\n",
      "gi|2765642|emb|Z78517.1|CFZ78517\n",
      "Seq('CGTAACAAGGTTTCCGTAGGTGAACCTGCGGAAGGATCATTGTTGAGACAGTAG...AGC')\n",
      "752\n",
      "gi|2765641|emb|Z78516.1|CPZ78516\n",
      "Seq('CGTAACAAGGTTTCCGTAGGTGAACCTGCGGAAGGATCATTGTTGAGACAGTAT...TAA')\n",
      "726\n",
      "gi|2765640|emb|Z78515.1|MXZ78515\n",
      "Seq('CGTAACAAGGTTTCCGTAGGTGAACCTGCGGAAGGATCATTGCTGAGACCGTAG...AGC')\n",
      "765\n",
      "gi|2765639|emb|Z78514.1|PSZ78514\n",
      "Seq('CGTAACAAGGTTTCCGTAGGTGGACCTTCGGGAGGATCATTTTTGAAGCCCCCA...CTA')\n",
      "755\n",
      "gi|2765638|emb|Z78513.1|PBZ78513\n",
      "Seq('CGTAACAAGGTTTCCGTAGGTGAACCTGCGGAAGGATCATTGTTGAGACCGCCA...GAG')\n",
      "742\n",
      "gi|2765637|emb|Z78512.1|PWZ78512\n",
      "Seq('CGTAACAAGGTTTCCGTAGGTGGACCTTCGGGAGGATCATTTTTGAAGCCCCCA...AGC')\n",
      "762\n",
      "gi|2765636|emb|Z78511.1|PEZ78511\n",
      "Seq('CGTAACAAGGTTTCCGTAGGTGAACCTTCGGAAGGATCATTGTTGAGACCCCCA...GGA')\n",
      "745\n",
      "gi|2765635|emb|Z78510.1|PCZ78510\n",
      "Seq('CTAACCAGGGTTCCGAGGTGACCTTCGGGAGGATTCCTTTTTAAGCCCCCGAAA...TTA')\n",
      "750\n",
      "gi|2765634|emb|Z78509.1|PPZ78509\n",
      "Seq('CGTAACAAGGTTTCCGTAGGTGAACCTGCGGAAGGATCATTGTTGAGACCGCCA...GGA')\n",
      "731\n",
      "gi|2765633|emb|Z78508.1|PLZ78508\n",
      "Seq('CGTAACAAGGTTTCCGTAGGTGAACCTGCGGAAGGATCATTGTTGAGACCGCCA...TGA')\n",
      "741\n",
      "gi|2765632|emb|Z78507.1|PLZ78507\n",
      "Seq('CGTAACAAGGTTTCCGTAGGTGAACCTGCGGAAGGATCATTGTTGAGACCCCCA...TGA')\n",
      "740\n",
      "gi|2765631|emb|Z78506.1|PLZ78506\n",
      "Seq('CGTAACAAGGTTTCCGTAGGTGAACCTGCGGAAGGATCATTGTTGAGACCGCAA...TGA')\n",
      "727\n",
      "gi|2765630|emb|Z78505.1|PSZ78505\n",
      "Seq('CGTAACAAGGTTTCCGTAGGTGAACCTGCGGAAGGATCATTGTTGAGACCGCCA...TTT')\n",
      "711\n",
      "gi|2765629|emb|Z78504.1|PKZ78504\n",
      "Seq('CGTAACAAGGTTTCCGTAGGTGAACCTTCGGAAGGATCATTGTTGAGACCGCAA...TAA')\n",
      "743\n",
      "gi|2765628|emb|Z78503.1|PCZ78503\n",
      "Seq('CGTAACCAGGTTTCCGTAGGTGAACCTCCGGAAGGATCCTTGTTGAGACCGCCA...TAA')\n",
      "727\n",
      "gi|2765627|emb|Z78502.1|PBZ78502\n",
      "Seq('CGTAACCAGGTTTCCGTAGGTGAACCTCCGGAAGGATCATTGTTGAGACCGCCA...CGC')\n",
      "757\n",
      "gi|2765626|emb|Z78501.1|PCZ78501\n",
      "Seq('CGTAACAAGGTTTCCGTAGGTGAACCTGCGGAAGGATCATTGTTGAGACCGCAA...AGA')\n",
      "770\n",
      "gi|2765625|emb|Z78500.1|PWZ78500\n",
      "Seq('CGTAACAAGGTTTCCGTAGGTGAACCTGCGGAAGGCTCATTGTTGAGACCGCAA...AAG')\n",
      "767\n",
      "gi|2765624|emb|Z78499.1|PMZ78499\n",
      "Seq('CGTAACAAGGTTTCCGTAGGTGAACCTGCGGAGGGATCATTGTTGAGATCGCAT...ACC')\n",
      "759\n",
      "gi|2765623|emb|Z78498.1|PMZ78498\n",
      "Seq('CGTAACAAGGTTTCCGTAGGTGAACCTGCGGAAAGGTCATTGTTGAGATCACAT...AGC')\n",
      "750\n",
      "gi|2765622|emb|Z78497.1|PDZ78497\n",
      "Seq('CGTAACAAGGTTTCCGTAGGTGAACCTGCGGAAGGATCATTGTTGAGATCACAT...AGC')\n",
      "788\n",
      "gi|2765621|emb|Z78496.1|PAZ78496\n",
      "Seq('CGTAACAAGGTTTCCGTAGGTGAACCTGCGGAAGGATCATTGTTGAGATCGCAT...AGC')\n",
      "774\n",
      "gi|2765620|emb|Z78495.1|PEZ78495\n",
      "Seq('CGTAACAAGGTTTCCGTAGGTGAACCTCCGGAAGGATCATTGTTGAGATCACAT...GTG')\n",
      "789\n",
      "gi|2765619|emb|Z78494.1|PNZ78494\n",
      "Seq('CGTAACAAGGTTTCCGTAGGTGAACCTGCGGAAGGATCATTGTTGAGGTCGCAT...AAG')\n",
      "688\n",
      "gi|2765618|emb|Z78493.1|PGZ78493\n",
      "Seq('CGTAACAAGGATTCCGTAGGTGAACCTGCGGAAGGATCATTGTTGAGATCGCAT...CCC')\n",
      "719\n",
      "gi|2765617|emb|Z78492.1|PBZ78492\n",
      "Seq('CGTAACAAGGTTTCCGTAGGTGAACCTGCGGAAGGATCATTGTTGAGATCGCAT...ATA')\n",
      "743\n",
      "gi|2765616|emb|Z78491.1|PCZ78491\n",
      "Seq('CGTAACAAGGTTTCCGTAGGTGAACCTGCGGAAGGATCATTGTTGAGATCGCAT...AGC')\n",
      "737\n",
      "gi|2765615|emb|Z78490.1|PFZ78490\n",
      "Seq('CGTAACAAGGTTTCCGTAGGTGAACCTGCGGAAGGATCATTGTTGAGATCACAT...TGA')\n",
      "728\n",
      "gi|2765614|emb|Z78489.1|PDZ78489\n",
      "Seq('CGTAACAAGGTTTCCGTAGGTGAACCTGCGGAAGGATCATTGTTGAGATCACAT...GGC')\n",
      "740\n",
      "gi|2765613|emb|Z78488.1|PTZ78488\n",
      "Seq('CTGTAGGTGAACCTGCGGAAGGATCATTGTTGAGATCACGCAATAATTGATCGA...GCT')\n",
      "696\n",
      "gi|2765612|emb|Z78487.1|PHZ78487\n",
      "Seq('CGTAACAAGGTTTCCGTAGGTGAACCTGCGGAAGGATCATTGTTGAGATCACAT...TAA')\n",
      "732\n",
      "gi|2765611|emb|Z78486.1|PBZ78486\n",
      "Seq('CGTCACGAGGTTTCCGTAGGTGAATCTGCGGGAGGATCATTGTTGAGATCACAT...TGA')\n",
      "731\n",
      "gi|2765610|emb|Z78485.1|PHZ78485\n",
      "Seq('CTGAACCTGGTGTCCGAAGGTGAATCTGCGGATGGATCATTGTTGAGATATCAT...GTA')\n",
      "735\n",
      "gi|2765609|emb|Z78484.1|PCZ78484\n",
      "Seq('CGTAACAAGGTTTCCGTAGGTGAACCTGGGGAAGGATCATTGTTGAGATCACAT...TTT')\n",
      "720\n",
      "gi|2765608|emb|Z78483.1|PVZ78483\n",
      "Seq('CGTAACAAGGTTTCCGTAGGTGAACCTGCGGAAGGATCATTGTTGAGATCACAT...GCA')\n",
      "740\n",
      "gi|2765607|emb|Z78482.1|PEZ78482\n",
      "Seq('TCTACTGCAGTGACCGAGATTTGCCATCGAGCCTCCTGGGAGCTTTCTTGCTGG...GCA')\n",
      "629\n",
      "gi|2765606|emb|Z78481.1|PIZ78481\n",
      "Seq('CGTAACAAGGTTTCCGTAGGTGAACCTGCGGAAGGATCATTGTTGAGATCACAT...TGA')\n",
      "572\n",
      "gi|2765605|emb|Z78480.1|PGZ78480\n",
      "Seq('CGTAACAAGGTTTCCGTAGGTGAACCTGCGGAAGGATCATTGTTGAGATCACAT...TGA')\n",
      "587\n",
      "gi|2765604|emb|Z78479.1|PPZ78479\n",
      "Seq('CGTAACAAGGTTTCCGTAGGTGAACCTGCGGAAGGATCATTGTTGAGATCACAT...AGT')\n",
      "700\n",
      "gi|2765603|emb|Z78478.1|PVZ78478\n",
      "Seq('CGTAACAAGGTTTCCGTAGGTGAACCTCCGGAAGGATCAGTGTTGAGATCACAT...GGC')\n",
      "636\n",
      "gi|2765602|emb|Z78477.1|PVZ78477\n",
      "Seq('CGTAACAAGGTTTCCGTAGGTGAACCTGCGGAAGGATCATTGTTGAGATCACAT...TGC')\n",
      "716\n",
      "gi|2765601|emb|Z78476.1|PGZ78476\n",
      "Seq('CGTAACAAGGTTTCCGTAGGTGAACCTGCGGAAGGATCATTGTTGAGATCACAT...CCC')\n",
      "592\n",
      "gi|2765600|emb|Z78475.1|PSZ78475\n",
      "Seq('CGTAACAAGGTTTCCGTAGGTGAACCTGCGGAAGGATCATTGTTGAGATCACAT...GGT')\n",
      "716\n",
      "gi|2765599|emb|Z78474.1|PKZ78474\n",
      "Seq('CGTAACAAGGTTTCCGTAGGTGAACCTGCGGAAGGATCATTGTTGAGATCACGT...CTT')\n",
      "733\n",
      "gi|2765598|emb|Z78473.1|PSZ78473\n",
      "Seq('CGTAACAAGGTTTCCGTAGGTGAACCTGCGGAAGGATCATTGTTGAGATCACAT...AGG')\n",
      "626\n",
      "gi|2765597|emb|Z78472.1|PLZ78472\n",
      "Seq('CGTAACAAGGTTTCCGTAGGTGAACCTGCGGAAGGATCATTGTTGAGATCACAT...AGC')\n",
      "737\n",
      "gi|2765596|emb|Z78471.1|PDZ78471\n",
      "Seq('CGTAACAAGGTTTCCGTAGGTGAACCTGCGGAAGGATCATTGTTGAGATCACAT...AGC')\n",
      "740\n",
      "gi|2765595|emb|Z78470.1|PPZ78470\n",
      "Seq('CGTAACAAGGTTTCCGTAGGTGAACCTGCGGAAGGATCATTGTTGAGATCACAT...GTT')\n",
      "574\n",
      "gi|2765594|emb|Z78469.1|PHZ78469\n",
      "Seq('CGTAACAAGGTTTCCGTAGGTGAACCTGCGGAAGGATCATTGTTGAGATCACAT...GTT')\n",
      "594\n",
      "gi|2765593|emb|Z78468.1|PAZ78468\n",
      "Seq('CGTAACAAGGTTTCCGTAGGTGAACCTGCGGAAGGATCATTGTTGAGATCGCAT...GTT')\n",
      "610\n",
      "gi|2765592|emb|Z78467.1|PSZ78467\n",
      "Seq('CGTAACAAGGTTTCCGTAGGTGAACCTGCGGAAGGATCATTGTTGAGATCACAT...TGA')\n",
      "730\n",
      "gi|2765591|emb|Z78466.1|PPZ78466\n",
      "Seq('CGTAACAAGGTTTCCGTAGGTGAACCTGCGGAAGGATCATTGTTGAGATCACAT...CCC')\n",
      "641\n",
      "gi|2765590|emb|Z78465.1|PRZ78465\n",
      "Seq('CGTAACAAGGTTTCCGTAGGTGAACCTGCGGAAGGATCATTGTTGAGATCACAT...TGC')\n",
      "702\n",
      "gi|2765589|emb|Z78464.1|PGZ78464\n",
      "Seq('CGTAACAAGGTTTCCGTAGGTGAGCGGAAGGGTCATTGTTGAGATCACATAATA...AGC')\n",
      "733\n",
      "gi|2765588|emb|Z78463.1|PGZ78463\n",
      "Seq('CGTAACAAGGTTTCCGTAGGTGAACCTGCGGAAGGTTCATTGTTGAGATCACAT...AGC')\n",
      "738\n",
      "gi|2765587|emb|Z78462.1|PSZ78462\n",
      "Seq('CGTCACGAGGTCTCCGGATGTGACCCTGCGGAAGGATCATTGTTGAGATCACAT...CAT')\n",
      "736\n",
      "gi|2765586|emb|Z78461.1|PWZ78461\n",
      "Seq('CGTAACAAGGTTTCCGTAGGTGAACCTCCGGAAGGATCATTGTTGAGATCACAT...TAA')\n",
      "732\n",
      "gi|2765585|emb|Z78460.1|PCZ78460\n",
      "Seq('CGTAACAAGGTTTCCGTAGGTGAACCTCCGGAAGGATCATTGTTGAGATCACAT...TTA')\n",
      "745\n",
      "gi|2765584|emb|Z78459.1|PDZ78459\n",
      "Seq('CGTAACAAGGTTTCCGTAGGTGAACCTGCGGAAGGATCATTGTTGAGATCACAT...TTT')\n",
      "744\n",
      "gi|2765583|emb|Z78458.1|PHZ78458\n",
      "Seq('CGTAACAAGGTTTCCGTAGGTGAACCTGCGGAAGGATCATTGTTGAGATCACAT...TTG')\n",
      "738\n",
      "gi|2765582|emb|Z78457.1|PCZ78457\n",
      "Seq('CGTAACAAGGTTTCCGTAGGTGAACCTCCGGAAGGATCATTGTTGAGATCACAT...GAG')\n",
      "739\n",
      "gi|2765581|emb|Z78456.1|PTZ78456\n",
      "Seq('CGTAACAAGGTTTCCGTAGGTGAACCTGCGGAAGGATCATTGTTGAGATCACAT...AGC')\n",
      "740\n",
      "gi|2765580|emb|Z78455.1|PJZ78455\n",
      "Seq('CGTAACCAGGTTTCCGTAGGTGGACCTTCGGGAGGATCATTTTTGAGATCACAT...GCA')\n",
      "745\n",
      "gi|2765579|emb|Z78454.1|PFZ78454\n",
      "Seq('CGTAACAAGGTTTCCGTAGGTGAACCTGCGGAAGGATCATTGTTGAGATCACAT...AAC')\n",
      "695\n",
      "gi|2765578|emb|Z78453.1|PSZ78453\n",
      "Seq('CGTAACAAGGTTTCCGTAGGTGAACCTGCGGAAGGATCATTGTTGAGATCACAT...GCA')\n",
      "745\n",
      "gi|2765577|emb|Z78452.1|PBZ78452\n",
      "Seq('CGTAACAAGGTTTCCGTAGGTGAACCTGCGGAAGGATCATTGTTGAGATCACAT...GCA')\n",
      "743\n",
      "gi|2765576|emb|Z78451.1|PHZ78451\n",
      "Seq('CGTAACAAGGTTTCCGTAGGTGTACCTCCGGAAGGATCATTGTTGAGATCACAT...AGC')\n",
      "730\n",
      "gi|2765575|emb|Z78450.1|PPZ78450\n",
      "Seq('GGAAGGATCATTGCTGATATCACATAATAATTGATCGAGTTAAGCTGGAGGATC...GAG')\n",
      "706\n",
      "gi|2765574|emb|Z78449.1|PMZ78449\n",
      "Seq('CGTAACAAGGTTTCCGTAGGTGAACCTGCGGAAGGATCATTGTTGAGATCACAT...TGC')\n",
      "744\n",
      "gi|2765573|emb|Z78448.1|PAZ78448\n",
      "Seq('CGTAACAAGGTTTCCGTAGGTGAACCTGCGGAAGGATCATTGTTGAGATCACAT...AGG')\n",
      "742\n",
      "gi|2765572|emb|Z78447.1|PVZ78447\n",
      "Seq('CGTAACAAGGATTCCGTAGGTGAACCTGCGGGAGGATCATTGTTGAGATCACAT...AGC')\n",
      "694\n",
      "gi|2765571|emb|Z78446.1|PAZ78446\n",
      "Seq('CGTAACAAGGTTTCCGTAGGTGAACCTCCGGAAGGATCATTGTTGAGATCACAT...CCC')\n",
      "712\n",
      "gi|2765570|emb|Z78445.1|PUZ78445\n",
      "Seq('CGTAACAAGGTTTCCGTAGGTGAACCTGCGGAAGGATCATTGTTGAGATCACAT...TGT')\n",
      "715\n",
      "gi|2765569|emb|Z78444.1|PAZ78444\n",
      "Seq('CGTAACAAGGTTTCCGTAGGGTGAACTGCGGAAGGATCATTGTTGAGATCACAT...ATT')\n",
      "688\n",
      "gi|2765568|emb|Z78443.1|PLZ78443\n",
      "Seq('CGTAACAAGGTTTCCGTAGGTGAACCTGCGGAAGGATCATTGTTGAGATCACAT...AGG')\n",
      "784\n",
      "gi|2765567|emb|Z78442.1|PBZ78442\n",
      "Seq('GTAGGTGAACCTGCGGAAGGATCATTGTTGAGATCACATAATAATTGATCGAGT...AGT')\n",
      "721\n",
      "gi|2765566|emb|Z78441.1|PSZ78441\n",
      "Seq('GGAAGGTCATTGCCGATATCACATAATAATTGATCGAGTTAATCTGGAGGATCT...GAG')\n",
      "703\n",
      "gi|2765565|emb|Z78440.1|PPZ78440\n",
      "Seq('CGTAACAAGGTTTCCGTAGGTGGACCTCCGGGAGGATCATTGTTGAGATCACAT...GCA')\n",
      "744\n",
      "gi|2765564|emb|Z78439.1|PBZ78439\n",
      "Seq('CATTGTTGAGATCACATAATAATTGATCGAGTTAATCTGGAGGATCTGTTTACT...GCC')\n",
      "592\n"
     ]
    }
   ],
   "source": [
    "%cd /home/tracey/Desktop/\n",
    "\n",
    "from Bio import SeqIO\n",
    "for seq_record in SeqIO.parse(\"ls_orchid.fasta\", \"fasta\"):\n",
    "    print(seq_record.id)\n",
    "    print(repr(seq_record.seq)) # if ou don't use the \"repr\", you get the full sequence\n",
    "    print(len(seq_record))\n",
    "    "
   ]
  },
  {
   "cell_type": "markdown",
   "metadata": {},
   "source": [
    "**Additional Exercise 3**\n",
    "\n",
    "a) Open a file called ***test_outfile.txt*** for writing\n",
    "\n",
    "b) Write the following sentence into the file:<br>\n",
    "***This is the message we want to change to upper case***\n",
    "\n",
    "\n",
    "c) Now open the file ***test_outfile.txt*** into which you just wrote your sentence\n",
    "\n",
    "d) Read the contents of the file in uppercase\n",
    "\n",
    "e) Store this in a variable name called **uppercase_sentence**\n",
    "\n",
    "e) Print this variable to your screen"
   ]
  },
  {
   "cell_type": "code",
   "execution_count": 46,
   "metadata": {},
   "outputs": [
    {
     "name": "stdout",
     "output_type": "stream",
     "text": [
      "THIS IS THE MESSAGE WE WANT TO CHANGE TO UPPER CASE\n"
     ]
    }
   ],
   "source": [
    "## NB!!!! This should obviously be the path to YOUR DESKTOP\n",
    "with open(\"/home/tracey/Desktop/test_outfile.txt\", \"w\") as outfile:\n",
    "    outfile.write(\"This is the message we want to change to upper case\")\n",
    "    \n",
    "with open(\"/home/tracey/Desktop/test_outfile.txt\") as infile:\n",
    " \n",
    "    uppercase_sentence= infile.read().upper()\n",
    "    print(uppercase_sentence)\n",
    "    "
   ]
  },
  {
   "cell_type": "markdown",
   "metadata": {},
   "source": [
    "**Additional Exercise 4**\n",
    "\n",
    "a) Open the ***genomic_dna.txt*** file\n",
    "\n",
    "b) Strip any white space from the file\n",
    "\n",
    "c) Create a variable called \"count_AT\"\n",
    "\n",
    "d) Count the number of As and Ts and add them together\n",
    "\n",
    "e) Print the result to a file called \"count_AT.txt\"\n",
    "\n",
    "f) Print ***The results were printed to an output file*** to your screen\n"
   ]
  },
  {
   "cell_type": "code",
   "execution_count": 47,
   "metadata": {},
   "outputs": [
    {
     "name": "stdout",
     "output_type": "stream",
     "text": [
      "Results printed to a file\n"
     ]
    }
   ],
   "source": [
    "# open your files\n",
    "\n",
    "## NB!!!! This should obviously be the path to YOUR DESKTOP\n",
    "with open(\"/home/tracey/Desktop/genomic_dna.txt\") as infile,\\\n",
    "    open (\"/home/tracey/Desktop/count_AT.txt\", \"w\") as outfile:\n",
    "    \n",
    "    read_infile = infile.read().strip() # strip off empty spaces from both ends\n",
    "    count_AT = str(read_infile.count(\"A\") + read_infile.count(\"T\")) \n",
    "    \n",
    "    outfile.write(count_AT)\n",
    "    print(\"Results printed to a file\")"
   ]
  },
  {
   "cell_type": "code",
   "execution_count": 48,
   "metadata": {},
   "outputs": [
    {
     "name": "stdout",
     "output_type": "stream",
     "text": [
      "Results printed to a file\n"
     ]
    }
   ],
   "source": [
    "# same as above\n",
    "\n",
    "## NB!!!! This should obviously be the path to YOUR DESKTOP\n",
    "infile = open(\"/home/tracey/Desktop/genomic_dna.txt\")\n",
    "outfile = open(\"/home/tracey/Desktop/count_AT.txt\", \"w\")\n",
    "\n",
    "read_infile = infile.read().strip() \n",
    "count_AT = str(read_infile.count(\"A\") + read_infile.count(\"T\"))\n",
    "    \n",
    "outfile.write(count_AT)\n",
    "print(\"Results printed to a file\")\n",
    "\n",
    "infile.close()\n",
    "outfile.close()    "
   ]
  }
 ],
 "metadata": {
  "kernelspec": {
   "display_name": "Python 3",
   "language": "python",
   "name": "python3"
  },
  "language_info": {
   "codemirror_mode": {
    "name": "ipython",
    "version": 3
   },
   "file_extension": ".py",
   "mimetype": "text/x-python",
   "name": "python",
   "nbconvert_exporter": "python",
   "pygments_lexer": "ipython3",
   "version": "3.7.3"
  }
 },
 "nbformat": 4,
 "nbformat_minor": 2
}
